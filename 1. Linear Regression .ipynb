{
 "cells": [
  {
   "cell_type": "markdown",
   "metadata": {},
   "source": [
    "# Linear Regression "
   ]
  },
  {
   "cell_type": "code",
   "execution_count": 1,
   "metadata": {},
   "outputs": [],
   "source": [
    "import pandas as pd \n",
    "import numpy as np"
   ]
  },
  {
   "cell_type": "code",
   "execution_count": 2,
   "metadata": {},
   "outputs": [],
   "source": [
    "ld_train=pd.read_csv('loan_data_train.csv')\n",
    "ld_test=pd.read_csv('loan_data_test.csv')               "
   ]
  },
  {
   "cell_type": "code",
   "execution_count": 3,
   "metadata": {},
   "outputs": [
    {
     "data": {
      "text/html": [
       "<div>\n",
       "<style scoped>\n",
       "    .dataframe tbody tr th:only-of-type {\n",
       "        vertical-align: middle;\n",
       "    }\n",
       "\n",
       "    .dataframe tbody tr th {\n",
       "        vertical-align: top;\n",
       "    }\n",
       "\n",
       "    .dataframe thead th {\n",
       "        text-align: right;\n",
       "    }\n",
       "</style>\n",
       "<table border=\"1\" class=\"dataframe\">\n",
       "  <thead>\n",
       "    <tr style=\"text-align: right;\">\n",
       "      <th></th>\n",
       "      <th>ID</th>\n",
       "      <th>Amount.Requested</th>\n",
       "      <th>Amount.Funded.By.Investors</th>\n",
       "      <th>Loan.Length</th>\n",
       "      <th>Loan.Purpose</th>\n",
       "      <th>Debt.To.Income.Ratio</th>\n",
       "      <th>State</th>\n",
       "      <th>Home.Ownership</th>\n",
       "      <th>Monthly.Income</th>\n",
       "      <th>FICO.Range</th>\n",
       "      <th>Open.CREDIT.Lines</th>\n",
       "      <th>Revolving.CREDIT.Balance</th>\n",
       "      <th>Inquiries.in.the.Last.6.Months</th>\n",
       "      <th>Employment.Length</th>\n",
       "    </tr>\n",
       "  </thead>\n",
       "  <tbody>\n",
       "    <tr>\n",
       "      <th>0</th>\n",
       "      <td>20093</td>\n",
       "      <td>5000</td>\n",
       "      <td>5000</td>\n",
       "      <td>60 months</td>\n",
       "      <td>moving</td>\n",
       "      <td>12.59%</td>\n",
       "      <td>NY</td>\n",
       "      <td>RENT</td>\n",
       "      <td>4416.67</td>\n",
       "      <td>690-694</td>\n",
       "      <td>13</td>\n",
       "      <td>7686</td>\n",
       "      <td>0</td>\n",
       "      <td>&lt; 1 year</td>\n",
       "    </tr>\n",
       "    <tr>\n",
       "      <th>1</th>\n",
       "      <td>62445</td>\n",
       "      <td>18000</td>\n",
       "      <td>18000</td>\n",
       "      <td>60 months</td>\n",
       "      <td>debt_consolidation</td>\n",
       "      <td>4.93%</td>\n",
       "      <td>CA</td>\n",
       "      <td>RENT</td>\n",
       "      <td>5258.50</td>\n",
       "      <td>710-714</td>\n",
       "      <td>6</td>\n",
       "      <td>11596</td>\n",
       "      <td>0</td>\n",
       "      <td>10+ years</td>\n",
       "    </tr>\n",
       "    <tr>\n",
       "      <th>2</th>\n",
       "      <td>65248</td>\n",
       "      <td>7200</td>\n",
       "      <td>7200</td>\n",
       "      <td>60 months</td>\n",
       "      <td>debt_consolidation</td>\n",
       "      <td>25.16%</td>\n",
       "      <td>LA</td>\n",
       "      <td>MORTGAGE</td>\n",
       "      <td>3750.00</td>\n",
       "      <td>750-754</td>\n",
       "      <td>13</td>\n",
       "      <td>7283</td>\n",
       "      <td>0</td>\n",
       "      <td>6 years</td>\n",
       "    </tr>\n",
       "    <tr>\n",
       "      <th>3</th>\n",
       "      <td>81822</td>\n",
       "      <td>7200</td>\n",
       "      <td>7200</td>\n",
       "      <td>36 months</td>\n",
       "      <td>debt_consolidation</td>\n",
       "      <td>17.27%</td>\n",
       "      <td>NY</td>\n",
       "      <td>MORTGAGE</td>\n",
       "      <td>3416.67</td>\n",
       "      <td>790-794</td>\n",
       "      <td>14</td>\n",
       "      <td>4838</td>\n",
       "      <td>0</td>\n",
       "      <td>10+ years</td>\n",
       "    </tr>\n",
       "    <tr>\n",
       "      <th>4</th>\n",
       "      <td>57923</td>\n",
       "      <td>22000</td>\n",
       "      <td>22000</td>\n",
       "      <td>60 months</td>\n",
       "      <td>debt_consolidation</td>\n",
       "      <td>18.28%</td>\n",
       "      <td>MI</td>\n",
       "      <td>MORTGAGE</td>\n",
       "      <td>6083.33</td>\n",
       "      <td>720-724</td>\n",
       "      <td>9</td>\n",
       "      <td>20181</td>\n",
       "      <td>0</td>\n",
       "      <td>8 years</td>\n",
       "    </tr>\n",
       "  </tbody>\n",
       "</table>\n",
       "</div>"
      ],
      "text/plain": [
       "      ID  Amount.Requested Amount.Funded.By.Investors Loan.Length  \\\n",
       "0  20093              5000                       5000   60 months   \n",
       "1  62445             18000                      18000   60 months   \n",
       "2  65248              7200                       7200   60 months   \n",
       "3  81822              7200                       7200   36 months   \n",
       "4  57923             22000                      22000   60 months   \n",
       "\n",
       "         Loan.Purpose Debt.To.Income.Ratio State Home.Ownership  \\\n",
       "0              moving               12.59%    NY           RENT   \n",
       "1  debt_consolidation                4.93%    CA           RENT   \n",
       "2  debt_consolidation               25.16%    LA       MORTGAGE   \n",
       "3  debt_consolidation               17.27%    NY       MORTGAGE   \n",
       "4  debt_consolidation               18.28%    MI       MORTGAGE   \n",
       "\n",
       "   Monthly.Income FICO.Range Open.CREDIT.Lines  Revolving.CREDIT.Balance  \\\n",
       "0         4416.67    690-694                13                      7686   \n",
       "1         5258.50    710-714                 6                     11596   \n",
       "2         3750.00    750-754                13                      7283   \n",
       "3         3416.67    790-794                14                      4838   \n",
       "4         6083.33    720-724                 9                     20181   \n",
       "\n",
       "   Inquiries.in.the.Last.6.Months Employment.Length  \n",
       "0                               0          < 1 year  \n",
       "1                               0         10+ years  \n",
       "2                               0           6 years  \n",
       "3                               0         10+ years  \n",
       "4                               0           8 years  "
      ]
     },
     "execution_count": 3,
     "metadata": {},
     "output_type": "execute_result"
    }
   ],
   "source": [
    "ld_test.head()"
   ]
  },
  {
   "cell_type": "code",
   "execution_count": 4,
   "metadata": {},
   "outputs": [
    {
     "data": {
      "text/html": [
       "<div>\n",
       "<style scoped>\n",
       "    .dataframe tbody tr th:only-of-type {\n",
       "        vertical-align: middle;\n",
       "    }\n",
       "\n",
       "    .dataframe tbody tr th {\n",
       "        vertical-align: top;\n",
       "    }\n",
       "\n",
       "    .dataframe thead th {\n",
       "        text-align: right;\n",
       "    }\n",
       "</style>\n",
       "<table border=\"1\" class=\"dataframe\">\n",
       "  <thead>\n",
       "    <tr style=\"text-align: right;\">\n",
       "      <th></th>\n",
       "      <th>ID</th>\n",
       "      <th>Amount.Requested</th>\n",
       "      <th>Amount.Funded.By.Investors</th>\n",
       "      <th>Interest.Rate</th>\n",
       "      <th>Loan.Length</th>\n",
       "      <th>Loan.Purpose</th>\n",
       "      <th>Debt.To.Income.Ratio</th>\n",
       "      <th>State</th>\n",
       "      <th>Home.Ownership</th>\n",
       "      <th>Monthly.Income</th>\n",
       "      <th>FICO.Range</th>\n",
       "      <th>Open.CREDIT.Lines</th>\n",
       "      <th>Revolving.CREDIT.Balance</th>\n",
       "      <th>Inquiries.in.the.Last.6.Months</th>\n",
       "      <th>Employment.Length</th>\n",
       "    </tr>\n",
       "  </thead>\n",
       "  <tbody>\n",
       "    <tr>\n",
       "      <th>0</th>\n",
       "      <td>79542.0</td>\n",
       "      <td>25000</td>\n",
       "      <td>25000</td>\n",
       "      <td>18.49%</td>\n",
       "      <td>60 months</td>\n",
       "      <td>debt_consolidation</td>\n",
       "      <td>27.56%</td>\n",
       "      <td>VA</td>\n",
       "      <td>MORTGAGE</td>\n",
       "      <td>8606.56</td>\n",
       "      <td>720-724</td>\n",
       "      <td>11</td>\n",
       "      <td>15210</td>\n",
       "      <td>3.0</td>\n",
       "      <td>5 years</td>\n",
       "    </tr>\n",
       "    <tr>\n",
       "      <th>1</th>\n",
       "      <td>75473.0</td>\n",
       "      <td>19750</td>\n",
       "      <td>19750</td>\n",
       "      <td>17.27%</td>\n",
       "      <td>60 months</td>\n",
       "      <td>debt_consolidation</td>\n",
       "      <td>13.39%</td>\n",
       "      <td>NY</td>\n",
       "      <td>MORTGAGE</td>\n",
       "      <td>6737.50</td>\n",
       "      <td>710-714</td>\n",
       "      <td>14</td>\n",
       "      <td>19070</td>\n",
       "      <td>3.0</td>\n",
       "      <td>4 years</td>\n",
       "    </tr>\n",
       "    <tr>\n",
       "      <th>2</th>\n",
       "      <td>67265.0</td>\n",
       "      <td>2100</td>\n",
       "      <td>2100</td>\n",
       "      <td>14.33%</td>\n",
       "      <td>36 months</td>\n",
       "      <td>major_purchase</td>\n",
       "      <td>3.50%</td>\n",
       "      <td>LA</td>\n",
       "      <td>OWN</td>\n",
       "      <td>1000.00</td>\n",
       "      <td>690-694</td>\n",
       "      <td>13</td>\n",
       "      <td>893</td>\n",
       "      <td>1.0</td>\n",
       "      <td>&lt; 1 year</td>\n",
       "    </tr>\n",
       "    <tr>\n",
       "      <th>3</th>\n",
       "      <td>80167.0</td>\n",
       "      <td>28000</td>\n",
       "      <td>28000</td>\n",
       "      <td>16.29%</td>\n",
       "      <td>36 months</td>\n",
       "      <td>credit_card</td>\n",
       "      <td>19.62%</td>\n",
       "      <td>NV</td>\n",
       "      <td>MORTGAGE</td>\n",
       "      <td>7083.33</td>\n",
       "      <td>710-714</td>\n",
       "      <td>12</td>\n",
       "      <td>38194</td>\n",
       "      <td>1.0</td>\n",
       "      <td>10+ years</td>\n",
       "    </tr>\n",
       "    <tr>\n",
       "      <th>4</th>\n",
       "      <td>17240.0</td>\n",
       "      <td>24250</td>\n",
       "      <td>17431.82</td>\n",
       "      <td>12.23%</td>\n",
       "      <td>60 months</td>\n",
       "      <td>credit_card</td>\n",
       "      <td>23.79%</td>\n",
       "      <td>OH</td>\n",
       "      <td>MORTGAGE</td>\n",
       "      <td>5833.33</td>\n",
       "      <td>730-734</td>\n",
       "      <td>6</td>\n",
       "      <td>31061</td>\n",
       "      <td>2.0</td>\n",
       "      <td>10+ years</td>\n",
       "    </tr>\n",
       "  </tbody>\n",
       "</table>\n",
       "</div>"
      ],
      "text/plain": [
       "        ID Amount.Requested Amount.Funded.By.Investors Interest.Rate  \\\n",
       "0  79542.0            25000                      25000        18.49%   \n",
       "1  75473.0            19750                      19750        17.27%   \n",
       "2  67265.0             2100                       2100        14.33%   \n",
       "3  80167.0            28000                      28000        16.29%   \n",
       "4  17240.0            24250                   17431.82        12.23%   \n",
       "\n",
       "  Loan.Length        Loan.Purpose Debt.To.Income.Ratio State Home.Ownership  \\\n",
       "0   60 months  debt_consolidation               27.56%    VA       MORTGAGE   \n",
       "1   60 months  debt_consolidation               13.39%    NY       MORTGAGE   \n",
       "2   36 months      major_purchase                3.50%    LA            OWN   \n",
       "3   36 months         credit_card               19.62%    NV       MORTGAGE   \n",
       "4   60 months         credit_card               23.79%    OH       MORTGAGE   \n",
       "\n",
       "   Monthly.Income FICO.Range Open.CREDIT.Lines Revolving.CREDIT.Balance  \\\n",
       "0         8606.56    720-724                11                    15210   \n",
       "1         6737.50    710-714                14                    19070   \n",
       "2         1000.00    690-694                13                      893   \n",
       "3         7083.33    710-714                12                    38194   \n",
       "4         5833.33    730-734                 6                    31061   \n",
       "\n",
       "   Inquiries.in.the.Last.6.Months Employment.Length  \n",
       "0                             3.0           5 years  \n",
       "1                             3.0           4 years  \n",
       "2                             1.0          < 1 year  \n",
       "3                             1.0         10+ years  \n",
       "4                             2.0         10+ years  "
      ]
     },
     "execution_count": 4,
     "metadata": {},
     "output_type": "execute_result"
    }
   ],
   "source": [
    "ld_train.head()"
   ]
  },
  {
   "cell_type": "code",
   "execution_count": 5,
   "metadata": {},
   "outputs": [],
   "source": [
    "# lets combine the data for data prep\n",
    "\n",
    "ld_test['Interest.Rate']=np.nan\n",
    "ld_train['data']='train'\n",
    "ld_test['data']='test'\n",
    "ld_test=ld_test[ld_train.columns]\n",
    "ld_all=pd.concat([ld_train,ld_test],axis=0)"
   ]
  },
  {
   "cell_type": "code",
   "execution_count": 6,
   "metadata": {},
   "outputs": [
    {
     "data": {
      "text/html": [
       "<div>\n",
       "<style scoped>\n",
       "    .dataframe tbody tr th:only-of-type {\n",
       "        vertical-align: middle;\n",
       "    }\n",
       "\n",
       "    .dataframe tbody tr th {\n",
       "        vertical-align: top;\n",
       "    }\n",
       "\n",
       "    .dataframe thead th {\n",
       "        text-align: right;\n",
       "    }\n",
       "</style>\n",
       "<table border=\"1\" class=\"dataframe\">\n",
       "  <thead>\n",
       "    <tr style=\"text-align: right;\">\n",
       "      <th></th>\n",
       "      <th>ID</th>\n",
       "      <th>Amount.Requested</th>\n",
       "      <th>Amount.Funded.By.Investors</th>\n",
       "      <th>Interest.Rate</th>\n",
       "      <th>Loan.Length</th>\n",
       "      <th>Loan.Purpose</th>\n",
       "      <th>Debt.To.Income.Ratio</th>\n",
       "      <th>State</th>\n",
       "      <th>Home.Ownership</th>\n",
       "      <th>Monthly.Income</th>\n",
       "      <th>FICO.Range</th>\n",
       "      <th>Open.CREDIT.Lines</th>\n",
       "      <th>Revolving.CREDIT.Balance</th>\n",
       "      <th>Inquiries.in.the.Last.6.Months</th>\n",
       "      <th>Employment.Length</th>\n",
       "      <th>data</th>\n",
       "    </tr>\n",
       "  </thead>\n",
       "  <tbody>\n",
       "    <tr>\n",
       "      <th>0</th>\n",
       "      <td>79542.0</td>\n",
       "      <td>25000</td>\n",
       "      <td>25000</td>\n",
       "      <td>18.49%</td>\n",
       "      <td>60 months</td>\n",
       "      <td>debt_consolidation</td>\n",
       "      <td>27.56%</td>\n",
       "      <td>VA</td>\n",
       "      <td>MORTGAGE</td>\n",
       "      <td>8606.56</td>\n",
       "      <td>720-724</td>\n",
       "      <td>11</td>\n",
       "      <td>15210</td>\n",
       "      <td>3.0</td>\n",
       "      <td>5 years</td>\n",
       "      <td>train</td>\n",
       "    </tr>\n",
       "    <tr>\n",
       "      <th>1</th>\n",
       "      <td>75473.0</td>\n",
       "      <td>19750</td>\n",
       "      <td>19750</td>\n",
       "      <td>17.27%</td>\n",
       "      <td>60 months</td>\n",
       "      <td>debt_consolidation</td>\n",
       "      <td>13.39%</td>\n",
       "      <td>NY</td>\n",
       "      <td>MORTGAGE</td>\n",
       "      <td>6737.50</td>\n",
       "      <td>710-714</td>\n",
       "      <td>14</td>\n",
       "      <td>19070</td>\n",
       "      <td>3.0</td>\n",
       "      <td>4 years</td>\n",
       "      <td>train</td>\n",
       "    </tr>\n",
       "    <tr>\n",
       "      <th>2</th>\n",
       "      <td>67265.0</td>\n",
       "      <td>2100</td>\n",
       "      <td>2100</td>\n",
       "      <td>14.33%</td>\n",
       "      <td>36 months</td>\n",
       "      <td>major_purchase</td>\n",
       "      <td>3.50%</td>\n",
       "      <td>LA</td>\n",
       "      <td>OWN</td>\n",
       "      <td>1000.00</td>\n",
       "      <td>690-694</td>\n",
       "      <td>13</td>\n",
       "      <td>893</td>\n",
       "      <td>1.0</td>\n",
       "      <td>&lt; 1 year</td>\n",
       "      <td>train</td>\n",
       "    </tr>\n",
       "    <tr>\n",
       "      <th>3</th>\n",
       "      <td>80167.0</td>\n",
       "      <td>28000</td>\n",
       "      <td>28000</td>\n",
       "      <td>16.29%</td>\n",
       "      <td>36 months</td>\n",
       "      <td>credit_card</td>\n",
       "      <td>19.62%</td>\n",
       "      <td>NV</td>\n",
       "      <td>MORTGAGE</td>\n",
       "      <td>7083.33</td>\n",
       "      <td>710-714</td>\n",
       "      <td>12</td>\n",
       "      <td>38194</td>\n",
       "      <td>1.0</td>\n",
       "      <td>10+ years</td>\n",
       "      <td>train</td>\n",
       "    </tr>\n",
       "    <tr>\n",
       "      <th>4</th>\n",
       "      <td>17240.0</td>\n",
       "      <td>24250</td>\n",
       "      <td>17431.82</td>\n",
       "      <td>12.23%</td>\n",
       "      <td>60 months</td>\n",
       "      <td>credit_card</td>\n",
       "      <td>23.79%</td>\n",
       "      <td>OH</td>\n",
       "      <td>MORTGAGE</td>\n",
       "      <td>5833.33</td>\n",
       "      <td>730-734</td>\n",
       "      <td>6</td>\n",
       "      <td>31061</td>\n",
       "      <td>2.0</td>\n",
       "      <td>10+ years</td>\n",
       "      <td>train</td>\n",
       "    </tr>\n",
       "  </tbody>\n",
       "</table>\n",
       "</div>"
      ],
      "text/plain": [
       "        ID Amount.Requested Amount.Funded.By.Investors Interest.Rate  \\\n",
       "0  79542.0            25000                      25000        18.49%   \n",
       "1  75473.0            19750                      19750        17.27%   \n",
       "2  67265.0             2100                       2100        14.33%   \n",
       "3  80167.0            28000                      28000        16.29%   \n",
       "4  17240.0            24250                   17431.82        12.23%   \n",
       "\n",
       "  Loan.Length        Loan.Purpose Debt.To.Income.Ratio State Home.Ownership  \\\n",
       "0   60 months  debt_consolidation               27.56%    VA       MORTGAGE   \n",
       "1   60 months  debt_consolidation               13.39%    NY       MORTGAGE   \n",
       "2   36 months      major_purchase                3.50%    LA            OWN   \n",
       "3   36 months         credit_card               19.62%    NV       MORTGAGE   \n",
       "4   60 months         credit_card               23.79%    OH       MORTGAGE   \n",
       "\n",
       "   Monthly.Income FICO.Range Open.CREDIT.Lines Revolving.CREDIT.Balance  \\\n",
       "0         8606.56    720-724                11                    15210   \n",
       "1         6737.50    710-714                14                    19070   \n",
       "2         1000.00    690-694                13                      893   \n",
       "3         7083.33    710-714                12                    38194   \n",
       "4         5833.33    730-734                 6                    31061   \n",
       "\n",
       "   Inquiries.in.the.Last.6.Months Employment.Length   data  \n",
       "0                             3.0           5 years  train  \n",
       "1                             3.0           4 years  train  \n",
       "2                             1.0          < 1 year  train  \n",
       "3                             1.0         10+ years  train  \n",
       "4                             2.0         10+ years  train  "
      ]
     },
     "execution_count": 6,
     "metadata": {},
     "output_type": "execute_result"
    }
   ],
   "source": [
    "ld_all.head()"
   ]
  },
  {
   "cell_type": "code",
   "execution_count": 7,
   "metadata": {},
   "outputs": [
    {
     "data": {
      "text/plain": [
       "ID                                float64\n",
       "Amount.Requested                   object\n",
       "Amount.Funded.By.Investors         object\n",
       "Interest.Rate                      object\n",
       "Loan.Length                        object\n",
       "Loan.Purpose                       object\n",
       "Debt.To.Income.Ratio               object\n",
       "State                              object\n",
       "Home.Ownership                     object\n",
       "Monthly.Income                    float64\n",
       "FICO.Range                         object\n",
       "Open.CREDIT.Lines                  object\n",
       "Revolving.CREDIT.Balance           object\n",
       "Inquiries.in.the.Last.6.Months    float64\n",
       "Employment.Length                  object\n",
       "data                               object\n",
       "dtype: object"
      ]
     },
     "execution_count": 7,
     "metadata": {},
     "output_type": "execute_result"
    }
   ],
   "source": [
    "ld_all.dtypes"
   ]
  },
  {
   "cell_type": "code",
   "execution_count": 8,
   "metadata": {},
   "outputs": [],
   "source": [
    "# ID,Amount.Funded.By.Investors : drop \n",
    "# Interest Rate , Debt to income ratio : remove % and then to numeric\n",
    "# Amount.Requested , 'Open.CREDIT.Lines','Revolving.CREDIT.Balance': convert it to numeric \n",
    "# FICO.Range : replace it by a numeric column which is average of the range\n",
    "# Employment Length : convert to number\n",
    "# Loan Lenth, Loan Purpose , State , Home ownership: dummies for categories with good occurence rate"
   ]
  },
  {
   "cell_type": "code",
   "execution_count": 9,
   "metadata": {},
   "outputs": [],
   "source": [
    "ld_all.drop(['ID','Amount.Funded.By.Investors'],axis=1,inplace=True)"
   ]
  },
  {
   "cell_type": "code",
   "execution_count": 10,
   "metadata": {},
   "outputs": [],
   "source": [
    "for col in ['Interest.Rate','Debt.To.Income.Ratio']:\n",
    "    ld_all[col]=ld_all[col].str.replace(\"%\",\"\")"
   ]
  },
  {
   "cell_type": "code",
   "execution_count": 11,
   "metadata": {},
   "outputs": [],
   "source": [
    "for col in ['Amount.Requested', 'Interest.Rate','Debt.To.Income.Ratio',\n",
    "            'Open.CREDIT.Lines','Revolving.CREDIT.Balance']:\n",
    "    ld_all[col]=pd.to_numeric(ld_all[col],errors='coerce')\n",
    "    "
   ]
  },
  {
   "cell_type": "code",
   "execution_count": 12,
   "metadata": {},
   "outputs": [],
   "source": [
    "k=ld_all['FICO.Range'].str.split(\"-\",expand=True).astype(float)\n",
    "\n",
    "ld_all['fico']=0.5*(k[0]+k[1])\n",
    "\n",
    "del ld_all['FICO.Range']\n",
    "\n"
   ]
  },
  {
   "cell_type": "code",
   "execution_count": 13,
   "metadata": {},
   "outputs": [
    {
     "data": {
      "text/plain": [
       "10+ years    653\n",
       "< 1 year     249\n",
       "2 years      243\n",
       "3 years      235\n",
       "5 years      202\n",
       "4 years      191\n",
       "1 year       177\n",
       "6 years      163\n",
       "7 years      127\n",
       "8 years      108\n",
       "9 years       72\n",
       ".              2\n",
       "Name: Employment.Length, dtype: int64"
      ]
     },
     "execution_count": 13,
     "metadata": {},
     "output_type": "execute_result"
    }
   ],
   "source": [
    "ld_all['Employment.Length'].value_counts()"
   ]
  },
  {
   "cell_type": "code",
   "execution_count": 14,
   "metadata": {},
   "outputs": [],
   "source": [
    "ld_all['Employment.Length']=ld_all['Employment.Length'].str.replace('years',\"\")\n",
    "\n",
    "ld_all['Employment.Length']=ld_all['Employment.Length'].str.replace('year',\"\")\n",
    "\n",
    "ld_all['Employment.Length']=np.where(ld_all['Employment.Length'].str[:2]==\"10\",10,ld_all['Employment.Length'])\n",
    "\n",
    "ld_all['Employment.Length']=np.where(ld_all['Employment.Length'].str[0]==\"<\",0,ld_all['Employment.Length'])\n",
    "\n",
    "ld_all['Employment.Length']=pd.to_numeric(ld_all['Employment.Length'],errors='coerce')"
   ]
  },
  {
   "cell_type": "code",
   "execution_count": 15,
   "metadata": {},
   "outputs": [],
   "source": [
    "# Notice that to apply string function on pandas data frame columns you need to str attribute\n",
    "cat_cols=ld_all.select_dtypes(['object']).columns"
   ]
  },
  {
   "cell_type": "code",
   "execution_count": 16,
   "metadata": {},
   "outputs": [
    {
     "data": {
      "text/plain": [
       "Index(['Loan.Length', 'Loan.Purpose', 'State', 'Home.Ownership', 'data'], dtype='object')"
      ]
     },
     "execution_count": 16,
     "metadata": {},
     "output_type": "execute_result"
    }
   ],
   "source": [
    "cat_cols"
   ]
  },
  {
   "cell_type": "code",
   "execution_count": 17,
   "metadata": {},
   "outputs": [],
   "source": [
    "cat_cols=cat_cols[:-1]"
   ]
  },
  {
   "cell_type": "code",
   "execution_count": 18,
   "metadata": {},
   "outputs": [
    {
     "data": {
      "text/plain": [
       "Index(['Loan.Length', 'Loan.Purpose', 'State', 'Home.Ownership'], dtype='object')"
      ]
     },
     "execution_count": 18,
     "metadata": {},
     "output_type": "execute_result"
    }
   ],
   "source": [
    "cat_cols"
   ]
  },
  {
   "cell_type": "code",
   "execution_count": 19,
   "metadata": {},
   "outputs": [
    {
     "name": "stdout",
     "output_type": "stream",
     "text": [
      "Loan.Length\n",
      "Loan.Purpose\n",
      "State\n",
      "Home.Ownership\n"
     ]
    }
   ],
   "source": [
    "# you can use following method if you want to ignore categories with too low frequencies ,\n",
    "#in next section for logistic regression we will be using  pandas' get dummies function. \n",
    "# you can work with either of these . \n",
    "#ignoring categories with low frequencies however will result in fewer columns without \n",
    "# affecting model performance too much .\n",
    "\n",
    "for col in cat_cols:\n",
    "    freqs=ld_all[col].value_counts()\n",
    "    k=freqs.index[freqs>20][:-1]\n",
    "    for cat in k:\n",
    "        name=col+'_'+cat\n",
    "        ld_all[name]=(ld_all[col]==cat).astype(int)\n",
    "    del ld_all[col]\n",
    "    print(col)\n",
    "    \n",
    "    "
   ]
  },
  {
   "cell_type": "code",
   "execution_count": 20,
   "metadata": {},
   "outputs": [
    {
     "data": {
      "text/plain": [
       "(2500, 51)"
      ]
     },
     "execution_count": 20,
     "metadata": {},
     "output_type": "execute_result"
    }
   ],
   "source": [
    "ld_all.shape"
   ]
  },
  {
   "cell_type": "code",
   "execution_count": 21,
   "metadata": {},
   "outputs": [
    {
     "data": {
      "text/plain": [
       "Amount.Requested                     5\n",
       "Interest.Rate                      300\n",
       "Debt.To.Income.Ratio                 1\n",
       "Monthly.Income                       3\n",
       "Open.CREDIT.Lines                    9\n",
       "Revolving.CREDIT.Balance             5\n",
       "Inquiries.in.the.Last.6.Months       3\n",
       "Employment.Length                   80\n",
       "data                                 0\n",
       "fico                                 0\n",
       "Loan.Length_36 months                0\n",
       "Loan.Purpose_debt_consolidation      0\n",
       "Loan.Purpose_credit_card             0\n",
       "Loan.Purpose_other                   0\n",
       "Loan.Purpose_home_improvement        0\n",
       "Loan.Purpose_major_purchase          0\n",
       "Loan.Purpose_small_business          0\n",
       "Loan.Purpose_car                     0\n",
       "Loan.Purpose_wedding                 0\n",
       "Loan.Purpose_medical                 0\n",
       "Loan.Purpose_moving                  0\n",
       "State_CA                             0\n",
       "State_NY                             0\n",
       "State_TX                             0\n",
       "State_FL                             0\n",
       "State_IL                             0\n",
       "State_GA                             0\n",
       "State_PA                             0\n",
       "State_NJ                             0\n",
       "State_VA                             0\n",
       "State_MA                             0\n",
       "State_OH                             0\n",
       "State_MD                             0\n",
       "State_NC                             0\n",
       "State_CO                             0\n",
       "State_WA                             0\n",
       "State_CT                             0\n",
       "State_AZ                             0\n",
       "State_MI                             0\n",
       "State_AL                             0\n",
       "State_MN                             0\n",
       "State_MO                             0\n",
       "State_NV                             0\n",
       "State_OR                             0\n",
       "State_SC                             0\n",
       "State_WI                             0\n",
       "State_KY                             0\n",
       "State_LA                             0\n",
       "State_KS                             0\n",
       "Home.Ownership_MORTGAGE              0\n",
       "Home.Ownership_RENT                  0\n",
       "dtype: int64"
      ]
     },
     "execution_count": 21,
     "metadata": {},
     "output_type": "execute_result"
    }
   ],
   "source": [
    "ld_all.isnull().sum()"
   ]
  },
  {
   "cell_type": "code",
   "execution_count": 22,
   "metadata": {},
   "outputs": [],
   "source": [
    "for col in ld_all.columns:\n",
    "    if (col not in ['Interest.Rate','data'])& (ld_all[col].isnull().sum()>0):\n",
    "        ld_all.loc[ld_all[col].isnull(),col]=ld_all.loc[ld_all['data']=='train',col].mean()"
   ]
  },
  {
   "cell_type": "code",
   "execution_count": 23,
   "metadata": {},
   "outputs": [
    {
     "data": {
      "text/plain": [
       "Amount.Requested                     0\n",
       "Interest.Rate                      300\n",
       "Debt.To.Income.Ratio                 0\n",
       "Monthly.Income                       0\n",
       "Open.CREDIT.Lines                    0\n",
       "Revolving.CREDIT.Balance             0\n",
       "Inquiries.in.the.Last.6.Months       0\n",
       "Employment.Length                    0\n",
       "data                                 0\n",
       "fico                                 0\n",
       "Loan.Length_36 months                0\n",
       "Loan.Purpose_debt_consolidation      0\n",
       "Loan.Purpose_credit_card             0\n",
       "Loan.Purpose_other                   0\n",
       "Loan.Purpose_home_improvement        0\n",
       "Loan.Purpose_major_purchase          0\n",
       "Loan.Purpose_small_business          0\n",
       "Loan.Purpose_car                     0\n",
       "Loan.Purpose_wedding                 0\n",
       "Loan.Purpose_medical                 0\n",
       "Loan.Purpose_moving                  0\n",
       "State_CA                             0\n",
       "State_NY                             0\n",
       "State_TX                             0\n",
       "State_FL                             0\n",
       "State_IL                             0\n",
       "State_GA                             0\n",
       "State_PA                             0\n",
       "State_NJ                             0\n",
       "State_VA                             0\n",
       "State_MA                             0\n",
       "State_OH                             0\n",
       "State_MD                             0\n",
       "State_NC                             0\n",
       "State_CO                             0\n",
       "State_WA                             0\n",
       "State_CT                             0\n",
       "State_AZ                             0\n",
       "State_MI                             0\n",
       "State_AL                             0\n",
       "State_MN                             0\n",
       "State_MO                             0\n",
       "State_NV                             0\n",
       "State_OR                             0\n",
       "State_SC                             0\n",
       "State_WI                             0\n",
       "State_KY                             0\n",
       "State_LA                             0\n",
       "State_KS                             0\n",
       "Home.Ownership_MORTGAGE              0\n",
       "Home.Ownership_RENT                  0\n",
       "dtype: int64"
      ]
     },
     "execution_count": 23,
     "metadata": {},
     "output_type": "execute_result"
    }
   ],
   "source": [
    "ld_all.isnull().sum()"
   ]
  },
  {
   "cell_type": "code",
   "execution_count": 24,
   "metadata": {},
   "outputs": [
    {
     "name": "stderr",
     "output_type": "stream",
     "text": [
      "C:\\Users\\DELL\\Anaconda3.6\\lib\\site-packages\\pandas\\core\\frame.py:4097: SettingWithCopyWarning: \n",
      "A value is trying to be set on a copy of a slice from a DataFrame\n",
      "\n",
      "See the caveats in the documentation: http://pandas.pydata.org/pandas-docs/stable/user_guide/indexing.html#returning-a-view-versus-a-copy\n",
      "  errors=errors,\n"
     ]
    }
   ],
   "source": [
    "ld_train=ld_all[ld_all['data']=='train']\n",
    "del ld_train['data']\n",
    "ld_test=ld_all[ld_all['data']=='test']\n",
    "ld_test.drop(['Interest.Rate','data'],axis=1,inplace=True)"
   ]
  },
  {
   "cell_type": "code",
   "execution_count": 25,
   "metadata": {},
   "outputs": [],
   "source": [
    "del ld_all"
   ]
  },
  {
   "cell_type": "code",
   "execution_count": 26,
   "metadata": {},
   "outputs": [],
   "source": [
    "from sklearn.model_selection import train_test_split"
   ]
  },
  {
   "cell_type": "code",
   "execution_count": 27,
   "metadata": {},
   "outputs": [],
   "source": [
    "ld_train1,ld_train2=train_test_split(ld_train,test_size=0.2,random_state=2)"
   ]
  },
  {
   "cell_type": "code",
   "execution_count": 28,
   "metadata": {},
   "outputs": [],
   "source": [
    "# Notice that only train data is used for imputing missing values in both train and test \n",
    "\n",
    "x_train1=ld_train1.drop('Interest.Rate',axis=1)\n",
    "y_train1=ld_train1['Interest.Rate']\n",
    "\n"
   ]
  },
  {
   "cell_type": "code",
   "execution_count": 29,
   "metadata": {},
   "outputs": [],
   "source": [
    "from sklearn.linear_model import LinearRegression"
   ]
  },
  {
   "cell_type": "code",
   "execution_count": 30,
   "metadata": {},
   "outputs": [],
   "source": [
    "lm=LinearRegression()"
   ]
  },
  {
   "cell_type": "code",
   "execution_count": 31,
   "metadata": {},
   "outputs": [
    {
     "data": {
      "text/plain": [
       "LinearRegression(copy_X=True, fit_intercept=True, n_jobs=None,\n",
       "         normalize=False)"
      ]
     },
     "execution_count": 31,
     "metadata": {},
     "output_type": "execute_result"
    }
   ],
   "source": [
    "lm.fit(x_train1,y_train1)"
   ]
  },
  {
   "cell_type": "code",
   "execution_count": 32,
   "metadata": {},
   "outputs": [
    {
     "data": {
      "text/plain": [
       "(1760, 49)"
      ]
     },
     "execution_count": 32,
     "metadata": {},
     "output_type": "execute_result"
    }
   ],
   "source": [
    "x_train1.shape"
   ]
  },
  {
   "cell_type": "code",
   "execution_count": 33,
   "metadata": {},
   "outputs": [
    {
     "data": {
      "text/plain": [
       "75.92121413595028"
      ]
     },
     "execution_count": 33,
     "metadata": {},
     "output_type": "execute_result"
    }
   ],
   "source": [
    "lm.intercept_"
   ]
  },
  {
   "cell_type": "code",
   "execution_count": 34,
   "metadata": {},
   "outputs": [
    {
     "data": {
      "text/plain": [
       "[('Amount.Requested', 0.00015602405153877194),\n",
       " ('Debt.To.Income.Ratio', -0.003938504173777214),\n",
       " ('Monthly.Income', -2.6568573569325546e-05),\n",
       " ('Open.CREDIT.Lines', -0.03992260834024214),\n",
       " ('Revolving.CREDIT.Balance', -3.923647858949941e-06),\n",
       " ('Inquiries.in.the.Last.6.Months', 0.336117211131329),\n",
       " ('Employment.Length', 0.03499367189451075),\n",
       " ('fico', -0.08667701121950805),\n",
       " ('Loan.Length_36 months', -3.14374724695059),\n",
       " ('Loan.Purpose_debt_consolidation', -0.46739356903559504),\n",
       " ('Loan.Purpose_credit_card', -0.6069873604061802),\n",
       " ('Loan.Purpose_other', 0.4441714227019282),\n",
       " ('Loan.Purpose_home_improvement', -0.3611899849181427),\n",
       " ('Loan.Purpose_major_purchase', -0.09589524932665822),\n",
       " ('Loan.Purpose_small_business', 0.06800548772823725),\n",
       " ('Loan.Purpose_car', 0.025259628036013004),\n",
       " ('Loan.Purpose_wedding', -0.7791542650056461),\n",
       " ('Loan.Purpose_medical', -0.428115210995498),\n",
       " ('Loan.Purpose_moving', 1.2845276544595716),\n",
       " ('State_CA', -0.21159715256759126),\n",
       " ('State_NY', -0.12777976346385955),\n",
       " ('State_TX', 0.46565199969690385),\n",
       " ('State_FL', 0.0853650919400776),\n",
       " ('State_IL', -0.6478521077890989),\n",
       " ('State_GA', -0.02871523268342452),\n",
       " ('State_PA', -0.5531491923550242),\n",
       " ('State_NJ', -0.4252715824292974),\n",
       " ('State_VA', -0.190018279430241),\n",
       " ('State_MA', 0.09032034036316658),\n",
       " ('State_OH', -0.3613940340219993),\n",
       " ('State_MD', -0.016614796909707255),\n",
       " ('State_NC', -0.30125204925156257),\n",
       " ('State_CO', -0.05643938739112126),\n",
       " ('State_WA', -0.2443194368202028),\n",
       " ('State_CT', 0.44506590679109936),\n",
       " ('State_AZ', 0.2647218526843684),\n",
       " ('State_MI', -0.15816583557369696),\n",
       " ('State_AL', -0.3217662352715159),\n",
       " ('State_MN', -0.07658290397396372),\n",
       " ('State_MO', -0.432094184032529),\n",
       " ('State_NV', -0.12433340941261012),\n",
       " ('State_OR', 0.1202482945947621),\n",
       " ('State_SC', 0.02477134526043992),\n",
       " ('State_WI', -0.1650692026702111),\n",
       " ('State_KY', 0.26922860325685155),\n",
       " ('State_LA', -0.04879687995185683),\n",
       " ('State_KS', 0.24424291796448616),\n",
       " ('Home.Ownership_MORTGAGE', -0.4927899396352773),\n",
       " ('Home.Ownership_RENT', -0.22835804629261108)]"
      ]
     },
     "execution_count": 34,
     "metadata": {},
     "output_type": "execute_result"
    }
   ],
   "source": [
    "list(zip(x_train1.columns,lm.coef_))"
   ]
  },
  {
   "cell_type": "code",
   "execution_count": 35,
   "metadata": {},
   "outputs": [],
   "source": [
    "x_train2=ld_train2.drop('Interest.Rate',axis=1)"
   ]
  },
  {
   "cell_type": "code",
   "execution_count": 36,
   "metadata": {},
   "outputs": [],
   "source": [
    "predicted_ir=lm.predict(x_train2)"
   ]
  },
  {
   "cell_type": "code",
   "execution_count": 37,
   "metadata": {},
   "outputs": [],
   "source": [
    "from sklearn.metrics import mean_absolute_error"
   ]
  },
  {
   "cell_type": "code",
   "execution_count": 38,
   "metadata": {},
   "outputs": [
    {
     "data": {
      "text/plain": [
       "1.627826794888971"
      ]
     },
     "execution_count": 38,
     "metadata": {},
     "output_type": "execute_result"
    }
   ],
   "source": [
    "mean_absolute_error(ld_train2['Interest.Rate'],predicted_ir)"
   ]
  },
  {
   "cell_type": "markdown",
   "metadata": {},
   "source": [
    "We know the tentative performance now, lets build the model on entire training to make prediction on test/production"
   ]
  },
  {
   "cell_type": "code",
   "execution_count": 39,
   "metadata": {},
   "outputs": [],
   "source": [
    "x_train=ld_train.drop('Interest.Rate',axis=1)\n",
    "y_train=ld_train['Interest.Rate']"
   ]
  },
  {
   "cell_type": "code",
   "execution_count": 40,
   "metadata": {},
   "outputs": [
    {
     "data": {
      "text/plain": [
       "LinearRegression(copy_X=True, fit_intercept=True, n_jobs=None,\n",
       "         normalize=False)"
      ]
     },
     "execution_count": 40,
     "metadata": {},
     "output_type": "execute_result"
    }
   ],
   "source": [
    "lm.fit(x_train,y_train)"
   ]
  },
  {
   "cell_type": "code",
   "execution_count": 41,
   "metadata": {},
   "outputs": [],
   "source": [
    "test_pred=lm.predict(ld_test)"
   ]
  },
  {
   "cell_type": "markdown",
   "metadata": {},
   "source": [
    "We can write these to a csv file for submission like this :"
   ]
  },
  {
   "cell_type": "code",
   "execution_count": 42,
   "metadata": {},
   "outputs": [],
   "source": [
    "pd.DataFrame(test_pred).to_csv(\"F:/mysubmission.csv\",index=False)"
   ]
  },
  {
   "cell_type": "markdown",
   "metadata": {},
   "source": [
    "# Ridge  Regression"
   ]
  },
  {
   "cell_type": "code",
   "execution_count": 43,
   "metadata": {},
   "outputs": [],
   "source": [
    "from sklearn.linear_model import Ridge,Lasso\n",
    "from sklearn.model_selection import GridSearchCV"
   ]
  },
  {
   "cell_type": "code",
   "execution_count": 44,
   "metadata": {},
   "outputs": [],
   "source": [
    "lambdas=np.linspace(1,100,100)"
   ]
  },
  {
   "cell_type": "code",
   "execution_count": 45,
   "metadata": {},
   "outputs": [],
   "source": [
    "params={'alpha':lambdas}"
   ]
  },
  {
   "cell_type": "code",
   "execution_count": 46,
   "metadata": {},
   "outputs": [],
   "source": [
    "model=Ridge(fit_intercept=True)"
   ]
  },
  {
   "cell_type": "code",
   "execution_count": 47,
   "metadata": {},
   "outputs": [],
   "source": [
    "grid_search=GridSearchCV(model,param_grid=params,cv=10,scoring='neg_mean_absolute_error')"
   ]
  },
  {
   "cell_type": "code",
   "execution_count": 48,
   "metadata": {},
   "outputs": [
    {
     "data": {
      "text/plain": [
       "GridSearchCV(cv=10, error_score='raise-deprecating',\n",
       "       estimator=Ridge(alpha=1.0, copy_X=True, fit_intercept=True, max_iter=None,\n",
       "   normalize=False, random_state=None, solver='auto', tol=0.001),\n",
       "       fit_params=None, iid='warn', n_jobs=None,\n",
       "       param_grid={'alpha': array([  1.,   2., ...,  99., 100.])},\n",
       "       pre_dispatch='2*n_jobs', refit=True, return_train_score='warn',\n",
       "       scoring='neg_mean_absolute_error', verbose=0)"
      ]
     },
     "execution_count": 48,
     "metadata": {},
     "output_type": "execute_result"
    }
   ],
   "source": [
    "grid_search.fit(x_train,y_train)"
   ]
  },
  {
   "cell_type": "code",
   "execution_count": 49,
   "metadata": {},
   "outputs": [
    {
     "data": {
      "text/plain": [
       "Ridge(alpha=34.0, copy_X=True, fit_intercept=True, max_iter=None,\n",
       "   normalize=False, random_state=None, solver='auto', tol=0.001)"
      ]
     },
     "execution_count": 49,
     "metadata": {},
     "output_type": "execute_result"
    }
   ],
   "source": [
    "grid_search.best_estimator_"
   ]
  },
  {
   "cell_type": "code",
   "execution_count": 50,
   "metadata": {},
   "outputs": [
    {
     "name": "stderr",
     "output_type": "stream",
     "text": [
      "C:\\Users\\DELL\\Anaconda3.6\\lib\\site-packages\\sklearn\\utils\\deprecation.py:125: FutureWarning: You are accessing a training score ('split0_train_score'), which will not be available by default any more in 0.21. If you need training scores, please set return_train_score=True\n",
      "  warnings.warn(*warn_args, **warn_kwargs)\n",
      "C:\\Users\\DELL\\Anaconda3.6\\lib\\site-packages\\sklearn\\utils\\deprecation.py:125: FutureWarning: You are accessing a training score ('split1_train_score'), which will not be available by default any more in 0.21. If you need training scores, please set return_train_score=True\n",
      "  warnings.warn(*warn_args, **warn_kwargs)\n",
      "C:\\Users\\DELL\\Anaconda3.6\\lib\\site-packages\\sklearn\\utils\\deprecation.py:125: FutureWarning: You are accessing a training score ('split2_train_score'), which will not be available by default any more in 0.21. If you need training scores, please set return_train_score=True\n",
      "  warnings.warn(*warn_args, **warn_kwargs)\n",
      "C:\\Users\\DELL\\Anaconda3.6\\lib\\site-packages\\sklearn\\utils\\deprecation.py:125: FutureWarning: You are accessing a training score ('split3_train_score'), which will not be available by default any more in 0.21. If you need training scores, please set return_train_score=True\n",
      "  warnings.warn(*warn_args, **warn_kwargs)\n",
      "C:\\Users\\DELL\\Anaconda3.6\\lib\\site-packages\\sklearn\\utils\\deprecation.py:125: FutureWarning: You are accessing a training score ('split4_train_score'), which will not be available by default any more in 0.21. If you need training scores, please set return_train_score=True\n",
      "  warnings.warn(*warn_args, **warn_kwargs)\n",
      "C:\\Users\\DELL\\Anaconda3.6\\lib\\site-packages\\sklearn\\utils\\deprecation.py:125: FutureWarning: You are accessing a training score ('split5_train_score'), which will not be available by default any more in 0.21. If you need training scores, please set return_train_score=True\n",
      "  warnings.warn(*warn_args, **warn_kwargs)\n",
      "C:\\Users\\DELL\\Anaconda3.6\\lib\\site-packages\\sklearn\\utils\\deprecation.py:125: FutureWarning: You are accessing a training score ('split6_train_score'), which will not be available by default any more in 0.21. If you need training scores, please set return_train_score=True\n",
      "  warnings.warn(*warn_args, **warn_kwargs)\n",
      "C:\\Users\\DELL\\Anaconda3.6\\lib\\site-packages\\sklearn\\utils\\deprecation.py:125: FutureWarning: You are accessing a training score ('split7_train_score'), which will not be available by default any more in 0.21. If you need training scores, please set return_train_score=True\n",
      "  warnings.warn(*warn_args, **warn_kwargs)\n",
      "C:\\Users\\DELL\\Anaconda3.6\\lib\\site-packages\\sklearn\\utils\\deprecation.py:125: FutureWarning: You are accessing a training score ('split8_train_score'), which will not be available by default any more in 0.21. If you need training scores, please set return_train_score=True\n",
      "  warnings.warn(*warn_args, **warn_kwargs)\n",
      "C:\\Users\\DELL\\Anaconda3.6\\lib\\site-packages\\sklearn\\utils\\deprecation.py:125: FutureWarning: You are accessing a training score ('split9_train_score'), which will not be available by default any more in 0.21. If you need training scores, please set return_train_score=True\n",
      "  warnings.warn(*warn_args, **warn_kwargs)\n",
      "C:\\Users\\DELL\\Anaconda3.6\\lib\\site-packages\\sklearn\\utils\\deprecation.py:125: FutureWarning: You are accessing a training score ('mean_train_score'), which will not be available by default any more in 0.21. If you need training scores, please set return_train_score=True\n",
      "  warnings.warn(*warn_args, **warn_kwargs)\n",
      "C:\\Users\\DELL\\Anaconda3.6\\lib\\site-packages\\sklearn\\utils\\deprecation.py:125: FutureWarning: You are accessing a training score ('std_train_score'), which will not be available by default any more in 0.21. If you need training scores, please set return_train_score=True\n",
      "  warnings.warn(*warn_args, **warn_kwargs)\n"
     ]
    },
    {
     "data": {
      "text/plain": [
       "{'mean_fit_time': array([0.00839555, 0.00624902, 0.00624838, 0.0062485 , 0.00468614,\n",
       "        0.00156243, 0.00468678, 0.0031244 , 0.00624821, 0.        ,\n",
       "        0.00156212, 0.00624838, 0.00468645, 0.00312402, 0.        ,\n",
       "        0.        , 0.00624857, 0.00405507, 0.00624893, 0.00156205,\n",
       "        0.00305851, 0.0042213 , 0.00468638, 0.00312448, 0.00468659,\n",
       "        0.        , 0.00624804, 0.00312395, 0.00468981, 0.00156169,\n",
       "        0.00312448, 0.00468657, 0.        , 0.00312123, 0.00312746,\n",
       "        0.00312405, 0.00312438, 0.00312402, 0.00156538, 0.00312462,\n",
       "        0.00312419, 0.00312438, 0.00312457, 0.00312407, 0.00156219,\n",
       "        0.00468636, 0.        , 0.00624857, 0.00312438, 0.00312755,\n",
       "        0.00312414, 0.00468657, 0.0046864 , 0.00156262, 0.0062484 ,\n",
       "        0.00156243, 0.00559669, 0.00489168, 0.00319157, 0.00369043,\n",
       "        0.00329115, 0.00319142, 0.00119696, 0.00468624, 0.        ,\n",
       "        0.00312428, 0.00469   , 0.00624866, 0.00781085, 0.00312402,\n",
       "        0.00312426, 0.00390923, 0.00319302, 0.0036916 , 0.00359035,\n",
       "        0.00319216, 0.00359092, 0.00300279, 0.00781093, 0.00156219,\n",
       "        0.00156231, 0.00156212, 0.00468643, 0.00468593, 0.00312419,\n",
       "        0.00504532, 0.00312426, 0.        , 0.00624847, 0.        ,\n",
       "        0.00468657, 0.00468636, 0.00156207, 0.00781074, 0.003124  ,\n",
       "        0.00624831, 0.        , 0.00156193, 0.00312455, 0.00156236]),\n",
       " 'std_fit_time': array([0.01689381, 0.00765348, 0.00765267, 0.00765282, 0.0071582 ,\n",
       "        0.00468729, 0.00715918, 0.00624881, 0.00765247, 0.        ,\n",
       "        0.00468636, 0.00765267, 0.00715867, 0.00624804, 0.        ,\n",
       "        0.        , 0.0076529 , 0.00481312, 0.00765334, 0.00468614,\n",
       "        0.00474485, 0.00593864, 0.00715856, 0.00624895, 0.00715889,\n",
       "        0.        , 0.00765226, 0.0062479 , 0.00716381, 0.00468507,\n",
       "        0.00624895, 0.00715885, 0.        , 0.00624247, 0.00625491,\n",
       "        0.00624809, 0.00624876, 0.00624804, 0.00469615, 0.00624924,\n",
       "        0.00624838, 0.00624876, 0.00624914, 0.00624814, 0.00468657,\n",
       "        0.00715853, 0.        , 0.0076529 , 0.00624876, 0.00625511,\n",
       "        0.00624828, 0.00715885, 0.0071586 , 0.00468786, 0.0076527 ,\n",
       "        0.00468729, 0.00597382, 0.00144448, 0.0003993 , 0.00045729,\n",
       "        0.00045746, 0.0003992 , 0.00146597, 0.00715834, 0.        ,\n",
       "        0.00624857, 0.00716411, 0.00765302, 0.00781085, 0.00624805,\n",
       "        0.00624852, 0.00469375, 0.00039923, 0.00063892, 0.00066132,\n",
       "        0.00039889, 0.00079741, 0.00119687, 0.00781093, 0.00468657,\n",
       "        0.00468693, 0.00468636, 0.00715864, 0.00715787, 0.00624838,\n",
       "        0.00652912, 0.00624852, 0.        , 0.00765279, 0.        ,\n",
       "        0.00715885, 0.00715853, 0.00468621, 0.00781074, 0.006248  ,\n",
       "        0.00765258, 0.        , 0.00468578, 0.00624909, 0.00468707]),\n",
       " 'mean_score_time': array([0.00079784, 0.        , 0.        , 0.        , 0.        ,\n",
       "        0.00468643, 0.00156178, 0.00156217, 0.        , 0.00312448,\n",
       "        0.        , 0.        , 0.        , 0.00312445, 0.00468636,\n",
       "        0.        , 0.        , 0.00089707, 0.        , 0.00312433,\n",
       "        0.00039876, 0.00030315, 0.00156209, 0.        , 0.        ,\n",
       "        0.00156255, 0.        , 0.00156212, 0.        , 0.        ,\n",
       "        0.        , 0.        , 0.        , 0.        , 0.        ,\n",
       "        0.00156207, 0.00156205, 0.00156217, 0.        , 0.00156202,\n",
       "        0.001562  , 0.        , 0.001562  , 0.00156229, 0.00312428,\n",
       "        0.00156231, 0.00156202, 0.        , 0.        , 0.        ,\n",
       "        0.00156217, 0.        , 0.        , 0.00312386, 0.        ,\n",
       "        0.00156202, 0.00079799, 0.00139222, 0.00099788, 0.00109682,\n",
       "        0.00099781, 0.00089831, 0.00352352, 0.00156224, 0.00312426,\n",
       "        0.00312412, 0.00156267, 0.00156164, 0.        , 0.00156209,\n",
       "        0.        , 0.00235958, 0.00099652, 0.00089719, 0.00109668,\n",
       "        0.00109651, 0.00109718, 0.00069802, 0.        , 0.0015624 ,\n",
       "        0.001562  , 0.        , 0.        , 0.        , 0.00156236,\n",
       "        0.00035012, 0.        , 0.        , 0.        , 0.00312419,\n",
       "        0.        , 0.00156212, 0.        , 0.        , 0.00156214,\n",
       "        0.        , 0.00624871, 0.00468647, 0.00156209, 0.00156207]),\n",
       " 'std_score_time': array([3.98922765e-04, 0.00000000e+00, 0.00000000e+00, 0.00000000e+00,\n",
       "        0.00000000e+00, 7.15863569e-03, 4.68535423e-03, 4.68649864e-03,\n",
       "        0.00000000e+00, 6.24895096e-03, 0.00000000e+00, 0.00000000e+00,\n",
       "        0.00000000e+00, 6.24890328e-03, 7.15852641e-03, 0.00000000e+00,\n",
       "        0.00000000e+00, 6.97599279e-04, 0.00000000e+00, 6.24866489e-03,\n",
       "        6.61314462e-04, 4.63174802e-04, 4.68628407e-03, 0.00000000e+00,\n",
       "        0.00000000e+00, 4.68764305e-03, 0.00000000e+00, 4.68635559e-03,\n",
       "        0.00000000e+00, 0.00000000e+00, 0.00000000e+00, 0.00000000e+00,\n",
       "        0.00000000e+00, 0.00000000e+00, 0.00000000e+00, 4.68621254e-03,\n",
       "        4.68614101e-03, 4.68649864e-03, 0.00000000e+00, 4.68606949e-03,\n",
       "        4.68599796e-03, 0.00000000e+00, 4.68599796e-03, 4.68685627e-03,\n",
       "        6.24856950e-03, 4.68692780e-03, 4.68606949e-03, 0.00000000e+00,\n",
       "        0.00000000e+00, 0.00000000e+00, 4.68649864e-03, 0.00000000e+00,\n",
       "        0.00000000e+00, 6.24771120e-03, 0.00000000e+00, 4.68606949e-03,\n",
       "        5.98351342e-04, 4.91302950e-04, 1.15430054e-06, 5.36972284e-04,\n",
       "        5.58632589e-07, 2.99439475e-04, 6.06591697e-03, 4.68671322e-03,\n",
       "        6.24852184e-03, 6.24823572e-03, 4.68800068e-03, 4.68492508e-03,\n",
       "        0.00000000e+00, 4.68628407e-03, 0.00000000e+00, 4.45273938e-03,\n",
       "        1.15356163e-06, 5.37128692e-04, 2.99311064e-04, 2.99210975e-04,\n",
       "        2.98911933e-04, 4.56961374e-04, 0.00000000e+00, 4.68721390e-03,\n",
       "        4.68599796e-03, 0.00000000e+00, 0.00000000e+00, 0.00000000e+00,\n",
       "        4.68707085e-03, 5.50917812e-04, 0.00000000e+00, 0.00000000e+00,\n",
       "        0.00000000e+00, 6.24837880e-03, 0.00000000e+00, 4.68635559e-03,\n",
       "        0.00000000e+00, 0.00000000e+00, 4.68642712e-03, 0.00000000e+00,\n",
       "        7.65307870e-03, 7.15870853e-03, 4.68628407e-03, 4.68621254e-03]),\n",
       " 'param_alpha': masked_array(data=[1.0, 2.0, 3.0, 4.0, 5.0, 6.0, 7.0, 8.0, 9.0, 10.0,\n",
       "                    11.0, 12.0, 13.0, 14.0, 15.0, 16.0, 17.0, 18.0, 19.0,\n",
       "                    20.0, 21.0, 22.0, 23.0, 24.0, 25.0, 26.0, 27.0, 28.0,\n",
       "                    29.0, 30.0, 31.0, 32.0, 33.0, 34.0, 35.0, 36.0, 37.0,\n",
       "                    38.0, 39.0, 40.0, 41.0, 42.0, 43.0, 44.0, 45.0, 46.0,\n",
       "                    47.0, 48.0, 49.0, 50.0, 51.0, 52.0, 53.0, 54.0, 55.0,\n",
       "                    56.0, 57.0, 58.0, 59.0, 60.0, 61.0, 62.0, 63.0, 64.0,\n",
       "                    65.0, 66.0, 67.0, 68.0, 69.0, 70.0, 71.0, 72.0, 73.0,\n",
       "                    74.0, 75.0, 76.0, 77.0, 78.0, 79.0, 80.0, 81.0, 82.0,\n",
       "                    83.0, 84.0, 85.0, 86.0, 87.0, 88.0, 89.0, 90.0, 91.0,\n",
       "                    92.0, 93.0, 94.0, 95.0, 96.0, 97.0, 98.0, 99.0, 100.0],\n",
       "              mask=[False, False, False, False, False, False, False, False,\n",
       "                    False, False, False, False, False, False, False, False,\n",
       "                    False, False, False, False, False, False, False, False,\n",
       "                    False, False, False, False, False, False, False, False,\n",
       "                    False, False, False, False, False, False, False, False,\n",
       "                    False, False, False, False, False, False, False, False,\n",
       "                    False, False, False, False, False, False, False, False,\n",
       "                    False, False, False, False, False, False, False, False,\n",
       "                    False, False, False, False, False, False, False, False,\n",
       "                    False, False, False, False, False, False, False, False,\n",
       "                    False, False, False, False, False, False, False, False,\n",
       "                    False, False, False, False, False, False, False, False,\n",
       "                    False, False, False, False],\n",
       "        fill_value='?',\n",
       "             dtype=object),\n",
       " 'params': [{'alpha': 1.0},\n",
       "  {'alpha': 2.0},\n",
       "  {'alpha': 3.0},\n",
       "  {'alpha': 4.0},\n",
       "  {'alpha': 5.0},\n",
       "  {'alpha': 6.0},\n",
       "  {'alpha': 7.0},\n",
       "  {'alpha': 8.0},\n",
       "  {'alpha': 9.0},\n",
       "  {'alpha': 10.0},\n",
       "  {'alpha': 11.0},\n",
       "  {'alpha': 12.0},\n",
       "  {'alpha': 13.0},\n",
       "  {'alpha': 14.0},\n",
       "  {'alpha': 15.0},\n",
       "  {'alpha': 16.0},\n",
       "  {'alpha': 17.0},\n",
       "  {'alpha': 18.0},\n",
       "  {'alpha': 19.0},\n",
       "  {'alpha': 20.0},\n",
       "  {'alpha': 21.0},\n",
       "  {'alpha': 22.0},\n",
       "  {'alpha': 23.0},\n",
       "  {'alpha': 24.0},\n",
       "  {'alpha': 25.0},\n",
       "  {'alpha': 26.0},\n",
       "  {'alpha': 27.0},\n",
       "  {'alpha': 28.0},\n",
       "  {'alpha': 29.0},\n",
       "  {'alpha': 30.0},\n",
       "  {'alpha': 31.0},\n",
       "  {'alpha': 32.0},\n",
       "  {'alpha': 33.0},\n",
       "  {'alpha': 34.0},\n",
       "  {'alpha': 35.0},\n",
       "  {'alpha': 36.0},\n",
       "  {'alpha': 37.0},\n",
       "  {'alpha': 38.0},\n",
       "  {'alpha': 39.0},\n",
       "  {'alpha': 40.0},\n",
       "  {'alpha': 41.0},\n",
       "  {'alpha': 42.0},\n",
       "  {'alpha': 43.0},\n",
       "  {'alpha': 44.0},\n",
       "  {'alpha': 45.0},\n",
       "  {'alpha': 46.0},\n",
       "  {'alpha': 47.0},\n",
       "  {'alpha': 48.0},\n",
       "  {'alpha': 49.0},\n",
       "  {'alpha': 50.0},\n",
       "  {'alpha': 51.0},\n",
       "  {'alpha': 52.0},\n",
       "  {'alpha': 53.0},\n",
       "  {'alpha': 54.0},\n",
       "  {'alpha': 55.0},\n",
       "  {'alpha': 56.0},\n",
       "  {'alpha': 57.0},\n",
       "  {'alpha': 58.0},\n",
       "  {'alpha': 59.0},\n",
       "  {'alpha': 60.0},\n",
       "  {'alpha': 61.0},\n",
       "  {'alpha': 62.0},\n",
       "  {'alpha': 63.0},\n",
       "  {'alpha': 64.0},\n",
       "  {'alpha': 65.0},\n",
       "  {'alpha': 66.0},\n",
       "  {'alpha': 67.0},\n",
       "  {'alpha': 68.0},\n",
       "  {'alpha': 69.0},\n",
       "  {'alpha': 70.0},\n",
       "  {'alpha': 71.0},\n",
       "  {'alpha': 72.0},\n",
       "  {'alpha': 73.0},\n",
       "  {'alpha': 74.0},\n",
       "  {'alpha': 75.0},\n",
       "  {'alpha': 76.0},\n",
       "  {'alpha': 77.0},\n",
       "  {'alpha': 78.0},\n",
       "  {'alpha': 79.0},\n",
       "  {'alpha': 80.0},\n",
       "  {'alpha': 81.0},\n",
       "  {'alpha': 82.0},\n",
       "  {'alpha': 83.0},\n",
       "  {'alpha': 84.0},\n",
       "  {'alpha': 85.0},\n",
       "  {'alpha': 86.0},\n",
       "  {'alpha': 87.0},\n",
       "  {'alpha': 88.0},\n",
       "  {'alpha': 89.0},\n",
       "  {'alpha': 90.0},\n",
       "  {'alpha': 91.0},\n",
       "  {'alpha': 92.0},\n",
       "  {'alpha': 93.0},\n",
       "  {'alpha': 94.0},\n",
       "  {'alpha': 95.0},\n",
       "  {'alpha': 96.0},\n",
       "  {'alpha': 97.0},\n",
       "  {'alpha': 98.0},\n",
       "  {'alpha': 99.0},\n",
       "  {'alpha': 100.0}],\n",
       " 'split0_test_score': array([-1.72358138, -1.72420643, -1.72488332, -1.72551715, -1.72611705,\n",
       "        -1.726689  , -1.72724387, -1.72782936, -1.72839732, -1.72896669,\n",
       "        -1.72954587, -1.7301274 , -1.73070845, -1.73127717, -1.7318344 ,\n",
       "        -1.7323809 , -1.73291734, -1.73344429, -1.7339623 , -1.73447182,\n",
       "        -1.73497329, -1.73546709, -1.73595358, -1.73643308, -1.73690589,\n",
       "        -1.73737227, -1.73783249, -1.73828676, -1.73873531, -1.73917834,\n",
       "        -1.73961603, -1.74004856, -1.7405097 , -1.74104459, -1.74159538,\n",
       "        -1.74214058, -1.74268031, -1.74321473, -1.74374395, -1.74432305,\n",
       "        -1.74501456, -1.74570004, -1.7463796 , -1.74705336, -1.74772141,\n",
       "        -1.74838387, -1.74904083, -1.74969239, -1.75035082, -1.75101435,\n",
       "        -1.75167244, -1.7523252 , -1.75299962, -1.75367457, -1.75434372,\n",
       "        -1.75500719, -1.75566506, -1.75631744, -1.75696443, -1.75760612,\n",
       "        -1.7582426 , -1.75887395, -1.75950025, -1.7601216 , -1.760746  ,\n",
       "        -1.76139675, -1.76204251, -1.76268335, -1.76331934, -1.76395894,\n",
       "        -1.76460774, -1.76525171, -1.76589091, -1.76652542, -1.76715531,\n",
       "        -1.76778063, -1.7684233 , -1.76906158, -1.76969529, -1.77032448,\n",
       "        -1.77094921, -1.77156954, -1.77218554, -1.77279726, -1.77340474,\n",
       "        -1.77400806, -1.77460725, -1.77520238, -1.77579348, -1.77638062,\n",
       "        -1.77696383, -1.77754318, -1.77811869, -1.77869043, -1.77925842,\n",
       "        -1.77982273, -1.78038338, -1.78094043, -1.78149391, -1.78204386]),\n",
       " 'split1_test_score': array([-1.76219454, -1.75903763, -1.75623933, -1.75395455, -1.75197626,\n",
       "        -1.75017074, -1.74845623, -1.746826  , -1.74527378, -1.74387719,\n",
       "        -1.74258427, -1.74135105, -1.74017328, -1.73904709, -1.73796896,\n",
       "        -1.73693568, -1.73594433, -1.73510332, -1.73429931, -1.73357746,\n",
       "        -1.73289635, -1.73224239, -1.73161399, -1.73100966, -1.73042804,\n",
       "        -1.72986788, -1.72932798, -1.72880728, -1.72830475, -1.72781947,\n",
       "        -1.72735055, -1.72689718, -1.72645858, -1.72603406, -1.72564093,\n",
       "        -1.72527274, -1.7249398 , -1.72461788, -1.72430649, -1.72400516,\n",
       "        -1.72371345, -1.72343094, -1.72315723, -1.72289196, -1.72263477,\n",
       "        -1.72238533, -1.72214332, -1.72190844, -1.72168042, -1.72145899,\n",
       "        -1.72124388, -1.72103486, -1.7208317 , -1.72063418, -1.72044209,\n",
       "        -1.72025524, -1.72007342, -1.71989647, -1.71972421, -1.71955648,\n",
       "        -1.71939312, -1.71923399, -1.71907893, -1.71892781, -1.7187805 ,\n",
       "        -1.71865008, -1.71853846, -1.71842992, -1.71832436, -1.71822169,\n",
       "        -1.71812181, -1.71802463, -1.71793006, -1.71783802, -1.71774842,\n",
       "        -1.71766119, -1.71757625, -1.71749353, -1.71741297, -1.71734177,\n",
       "        -1.71730113, -1.71726236, -1.71722538, -1.71719015, -1.7171566 ,\n",
       "        -1.71715105, -1.71719037, -1.71723934, -1.71728928, -1.71734015,\n",
       "        -1.71739192, -1.71744454, -1.71749799, -1.71755222, -1.7176072 ,\n",
       "        -1.71766291, -1.71771931, -1.71777637, -1.71786817, -1.71797334]),\n",
       " 'split2_test_score': array([-1.77797477, -1.77545201, -1.77326532, -1.77140267, -1.76974652,\n",
       "        -1.7682434 , -1.76692394, -1.76642358, -1.76597837, -1.76557934,\n",
       "        -1.76521963, -1.76489384, -1.76459764, -1.76432751, -1.76408054,\n",
       "        -1.76385429, -1.76364669, -1.76345597, -1.7632806 , -1.76311926,\n",
       "        -1.76297077, -1.76283411, -1.76271385, -1.76263464, -1.76256404,\n",
       "        -1.76250145, -1.76244628, -1.76239803, -1.76235624, -1.76232047,\n",
       "        -1.76229035, -1.76226552, -1.76224565, -1.76223044, -1.76221961,\n",
       "        -1.76221291, -1.7622101 , -1.76221095, -1.76221527, -1.76222286,\n",
       "        -1.76223353, -1.76232306, -1.76248036, -1.76263832, -1.76279686,\n",
       "        -1.76300679, -1.76324751, -1.76348786, -1.7637278 , -1.76397226,\n",
       "        -1.76421705, -1.76446119, -1.76470463, -1.76494736, -1.76518935,\n",
       "        -1.76543058, -1.76567103, -1.76591068, -1.76614951, -1.76639077,\n",
       "        -1.76665418, -1.766939  , -1.76723854, -1.76753889, -1.76788217,\n",
       "        -1.76824165, -1.76859917, -1.76895474, -1.76930837, -1.76966007,\n",
       "        -1.77000984, -1.7703577 , -1.77070365, -1.77106568, -1.77143949,\n",
       "        -1.77181079, -1.77217962, -1.77254599, -1.77290994, -1.7732715 ,\n",
       "        -1.77363069, -1.77398755, -1.77434209, -1.77469435, -1.77504436,\n",
       "        -1.77539213, -1.77573769, -1.77608108, -1.7764223 , -1.77676138,\n",
       "        -1.77709836, -1.77743324, -1.77776606, -1.77809683, -1.77842557,\n",
       "        -1.77875232, -1.77907708, -1.77939988, -1.77972074, -1.78003968]),\n",
       " 'split3_test_score': array([-1.64840333, -1.64735435, -1.64655986, -1.64619483, -1.64586451,\n",
       "        -1.64557283, -1.64530576, -1.64505448, -1.64481599, -1.64458809,\n",
       "        -1.6444109 , -1.64426518, -1.64412587, -1.6439922 , -1.64386355,\n",
       "        -1.64373941, -1.64361935, -1.64351967, -1.64342615, -1.64337521,\n",
       "        -1.64332944, -1.64328551, -1.64324324, -1.6432025 , -1.64316317,\n",
       "        -1.64312513, -1.64308829, -1.64305255, -1.64301784, -1.64298408,\n",
       "        -1.64295121, -1.64291916, -1.64288789, -1.64285734, -1.64282747,\n",
       "        -1.64279824, -1.64276961, -1.64274153, -1.64271398, -1.64268694,\n",
       "        -1.64266329, -1.64265498, -1.6426481 , -1.64264165, -1.6426356 ,\n",
       "        -1.64262993, -1.64262461, -1.64261964, -1.64261498, -1.64261062,\n",
       "        -1.64262829, -1.64265714, -1.64268588, -1.6427145 , -1.642743  ,\n",
       "        -1.64277136, -1.64279958, -1.64282766, -1.64285559, -1.64288337,\n",
       "        -1.642911  , -1.64293848, -1.6429658 , -1.64302244, -1.64309874,\n",
       "        -1.64318636, -1.64327337, -1.64335979, -1.64344562, -1.64353086,\n",
       "        -1.64361551, -1.6436996 , -1.64378311, -1.64386605, -1.64394844,\n",
       "        -1.64403028, -1.64411156, -1.64419231, -1.64428089, -1.64440206,\n",
       "        -1.64452247, -1.64467497, -1.64483078, -1.64498848, -1.64514518,\n",
       "        -1.64531965, -1.64551207, -1.64570335, -1.64590423, -1.6461169 ,\n",
       "        -1.64632837, -1.64653867, -1.64674781, -1.64695578, -1.64716261,\n",
       "        -1.64736831, -1.64757287, -1.64777632, -1.64797866, -1.6481799 ]),\n",
       " 'split4_test_score': array([-1.4528175 , -1.45170879, -1.45056942, -1.44942369, -1.4482914 ,\n",
       "        -1.44718246, -1.44610168, -1.44505108, -1.44403112, -1.44308012,\n",
       "        -1.44218434, -1.44134568, -1.44053185, -1.43976574, -1.43906924,\n",
       "        -1.43839255, -1.43773462, -1.43709499, -1.4364791 , -1.43587933,\n",
       "        -1.43529483, -1.43472779, -1.43417625, -1.43363783, -1.43311916,\n",
       "        -1.4326922 , -1.4322759 , -1.43187156, -1.43152853, -1.43120134,\n",
       "        -1.43088216, -1.4305706 , -1.43031318, -1.43007317, -1.4298396 ,\n",
       "        -1.42961217, -1.42939059, -1.4291746 , -1.42896395, -1.42877128,\n",
       "        -1.42859544, -1.42842363, -1.42825568, -1.42809534, -1.42799323,\n",
       "        -1.42792627, -1.4278619 , -1.42780001, -1.42774047, -1.4276832 ,\n",
       "        -1.42762808, -1.42757502, -1.42752394, -1.42750299, -1.42749653,\n",
       "        -1.42749132, -1.42748729, -1.42748441, -1.4274826 , -1.42748183,\n",
       "        -1.42748203, -1.42748317, -1.42748521, -1.42748809, -1.42749178,\n",
       "        -1.42749624, -1.42751485, -1.42754969, -1.427585  , -1.42762076,\n",
       "        -1.42765694, -1.42769352, -1.42773047, -1.4277956 , -1.42789828,\n",
       "        -1.42800197, -1.42810513, -1.42820775, -1.42830983, -1.42841139,\n",
       "        -1.42851241, -1.42861291, -1.42871287, -1.42881231, -1.42891123,\n",
       "        -1.42900963, -1.42910751, -1.42920487, -1.42930172, -1.42943034,\n",
       "        -1.42956259, -1.42969413, -1.42982497, -1.4299551 , -1.43009326,\n",
       "        -1.43024735, -1.43040057, -1.43055292, -1.4307044 , -1.43085502]),\n",
       " 'split5_test_score': array([-1.64312555, -1.6422563 , -1.64139114, -1.64054028, -1.63970823,\n",
       "        -1.6389013 , -1.63816312, -1.63744394, -1.63674337, -1.63606084,\n",
       "        -1.63539564, -1.63474703, -1.63411429, -1.63349667, -1.63289348,\n",
       "        -1.63230405, -1.63172777, -1.63116403, -1.63061388, -1.630076  ,\n",
       "        -1.62954911, -1.62903278, -1.62852656, -1.62803006, -1.62754289,\n",
       "        -1.6270647 , -1.62659516, -1.62613394, -1.62569538, -1.62528726,\n",
       "        -1.62488729, -1.62449517, -1.62411061, -1.62373333, -1.6233631 ,\n",
       "        -1.62299966, -1.62264279, -1.62229228, -1.6219479 , -1.62160947,\n",
       "        -1.6212768 , -1.62094971, -1.62062803, -1.6203116 , -1.62003353,\n",
       "        -1.61979199, -1.61957105, -1.6193757 , -1.61919222, -1.61901198,\n",
       "        -1.61883488, -1.61866082, -1.61848971, -1.61832148, -1.61815604,\n",
       "        -1.61801513, -1.61790803, -1.61780322, -1.61770062, -1.61760016,\n",
       "        -1.61750178, -1.61740543, -1.61731104, -1.61721855, -1.61712792,\n",
       "        -1.61703909, -1.61695201, -1.61686663, -1.61681129, -1.6167768 ,\n",
       "        -1.61674361, -1.61671169, -1.61668101, -1.61665152, -1.61662319,\n",
       "        -1.61659599, -1.61656988, -1.61655031, -1.61653605, -1.61652264,\n",
       "        -1.61651005, -1.61649826, -1.61651822, -1.61655484, -1.61659176,\n",
       "        -1.61662896, -1.61666642, -1.61670413, -1.61674209, -1.61678027,\n",
       "        -1.61683026, -1.6168855 , -1.61694075, -1.61700291, -1.61709469,\n",
       "        -1.61718624, -1.61727756, -1.61736863, -1.61745946, -1.61755005]),\n",
       " 'split6_test_score': array([-1.43120121, -1.43020632, -1.4293075 , -1.42857716, -1.42804058,\n",
       "        -1.42753515, -1.42705626, -1.42660047, -1.42616515, -1.42575528,\n",
       "        -1.42542414, -1.42511808, -1.42488836, -1.42466955, -1.42446088,\n",
       "        -1.42426167, -1.42407131, -1.42389157, -1.42374376, -1.42360284,\n",
       "        -1.42348502, -1.42340271, -1.42335533, -1.4233135 , -1.42327694,\n",
       "        -1.42324537, -1.42321854, -1.42319621, -1.42317816, -1.42316419,\n",
       "        -1.4231541 , -1.42314772, -1.42314486, -1.42314537, -1.42314909,\n",
       "        -1.42315588, -1.42316561, -1.42321615, -1.42327677, -1.42333941,\n",
       "        -1.42340397, -1.42347037, -1.42354686, -1.42363182, -1.42371821,\n",
       "        -1.42380596, -1.423895  , -1.42398527, -1.42407668, -1.42416919,\n",
       "        -1.42426274, -1.42435727, -1.42445272, -1.42454905, -1.42464621,\n",
       "        -1.42474415, -1.4248534 , -1.42497002, -1.42508716, -1.42520478,\n",
       "        -1.42532286, -1.42544135, -1.42556023, -1.42572837, -1.42595237,\n",
       "        -1.42617595, -1.42639911, -1.42662183, -1.42684409, -1.42706588,\n",
       "        -1.42730915, -1.4275589 , -1.42780794, -1.42805626, -1.42830385,\n",
       "        -1.4285507 , -1.42879681, -1.42904217, -1.42928677, -1.42953061,\n",
       "        -1.42977368, -1.43001597, -1.43025749, -1.43052219, -1.43078855,\n",
       "        -1.43109334, -1.43142155, -1.43174828, -1.43207352, -1.4323973 ,\n",
       "        -1.43271961, -1.43304046, -1.43335987, -1.43367783, -1.43399436,\n",
       "        -1.43430946, -1.43462315, -1.43493542, -1.43524629, -1.43555577]),\n",
       " 'split7_test_score': array([-1.58358516, -1.5818867 , -1.58039288, -1.57905692, -1.57784835,\n",
       "        -1.57674574, -1.57573317, -1.57479834, -1.57393144, -1.5731245 ,\n",
       "        -1.57237089, -1.57172694, -1.57115959, -1.57072183, -1.5703258 ,\n",
       "        -1.56995583, -1.56960987, -1.56928607, -1.56898278, -1.56869848,\n",
       "        -1.56843183, -1.5681816 , -1.56799102, -1.5678245 , -1.5676697 ,\n",
       "        -1.56752585, -1.56739226, -1.56726828, -1.56715332, -1.56704685,\n",
       "        -1.56694834, -1.56685735, -1.56677344, -1.5666962 , -1.56662527,\n",
       "        -1.56656031, -1.56650098, -1.56645551, -1.5664202 , -1.56638996,\n",
       "        -1.56636453, -1.56636591, -1.56641474, -1.56646716, -1.56652305,\n",
       "        -1.56663079, -1.56674933, -1.56686992, -1.56699242, -1.5671167 ,\n",
       "        -1.56724265, -1.56738802, -1.56753471, -1.56768264, -1.5678317 ,\n",
       "        -1.56798181, -1.56814537, -1.56833742, -1.56854898, -1.56878427,\n",
       "        -1.56901912, -1.56925349, -1.56948736, -1.56972071, -1.56995351,\n",
       "        -1.57018575, -1.57041741, -1.57064846, -1.5708789 , -1.5711369 ,\n",
       "        -1.5714243 , -1.57174191, -1.57211297, -1.57248235, -1.57285004,\n",
       "        -1.57321604, -1.57358037, -1.57394301, -1.57430398, -1.57466328,\n",
       "        -1.5750209 , -1.57537686, -1.57573116, -1.5760838 , -1.57643479,\n",
       "        -1.57678414, -1.57713184, -1.57747792, -1.57782236, -1.57816518,\n",
       "        -1.57850639, -1.578846  , -1.579184  , -1.5795204 , -1.57985523,\n",
       "        -1.58018847, -1.58052333, -1.58086747, -1.58121   , -1.58155093]),\n",
       " 'split8_test_score': array([-1.52226143, -1.52237304, -1.52234224, -1.52219924, -1.52198583,\n",
       "        -1.52172704, -1.52148003, -1.5213972 , -1.5213204 , -1.52125159,\n",
       "        -1.52116953, -1.5211393 , -1.5211067 , -1.52106808, -1.52102518,\n",
       "        -1.52097932, -1.52093153, -1.52088263, -1.52083323, -1.52078383,\n",
       "        -1.52073481, -1.52070668, -1.5206801 , -1.52065437, -1.52062964,\n",
       "        -1.52060602, -1.52058361, -1.52056246, -1.52054262, -1.52052413,\n",
       "        -1.52050699, -1.52050132, -1.52052218, -1.52054431, -1.52056768,\n",
       "        -1.52059229, -1.52061809, -1.52064506, -1.52067317, -1.52070239,\n",
       "        -1.52073268, -1.52076402, -1.52079636, -1.52082968, -1.52086395,\n",
       "        -1.5209003 , -1.52095465, -1.52100971, -1.52106544, -1.52112182,\n",
       "        -1.52117883, -1.52123642, -1.52132302, -1.52147839, -1.52163395,\n",
       "        -1.52178967, -1.5219646 , -1.52217376, -1.52238258, -1.52259101,\n",
       "        -1.52279906, -1.52300669, -1.52324017, -1.52347816, -1.52371519,\n",
       "        -1.52395127, -1.52418638, -1.52442053, -1.52465371, -1.52488593,\n",
       "        -1.52511717, -1.52534745, -1.52557675, -1.52580508, -1.52603245,\n",
       "        -1.52625884, -1.52648426, -1.5267327 , -1.52699796, -1.52726189,\n",
       "        -1.52752451, -1.52778582, -1.52804582, -1.52830454, -1.52856196,\n",
       "        -1.52883057, -1.52909787, -1.52936383, -1.52962845, -1.52992684,\n",
       "        -1.53022881, -1.53052925, -1.53082818, -1.5311256 , -1.53142153,\n",
       "        -1.53171596, -1.53200892, -1.53230041, -1.53259044, -1.53287902]),\n",
       " 'split9_test_score': array([-1.66160378, -1.66130772, -1.66105997, -1.66087829, -1.66082681,\n",
       "        -1.66086152, -1.66095374, -1.66109453, -1.66131515, -1.6616064 ,\n",
       "        -1.66192809, -1.66226942, -1.66262823, -1.66300264, -1.66339093,\n",
       "        -1.66379159, -1.66420327, -1.66462475, -1.66505494, -1.66549285,\n",
       "        -1.66593761, -1.66638842, -1.66686827, -1.66740379, -1.66794179,\n",
       "        -1.66848182, -1.66902348, -1.66956639, -1.67011021, -1.67065465,\n",
       "        -1.67119942, -1.67174427, -1.67228897, -1.67283758, -1.67340681,\n",
       "        -1.67397525, -1.67454273, -1.67510912, -1.67567429, -1.6762381 ,\n",
       "        -1.67680045, -1.67736124, -1.67792038, -1.67847778, -1.67903337,\n",
       "        -1.67958709, -1.68016977, -1.68076753, -1.68136332, -1.6819571 ,\n",
       "        -1.6825488 , -1.68316745, -1.68378655, -1.68440417, -1.68504136,\n",
       "        -1.68567541, -1.68630635, -1.68693415, -1.68755884, -1.68818041,\n",
       "        -1.68879887, -1.68942006, -1.69005032, -1.69071346, -1.69137873,\n",
       "        -1.69204048, -1.69269871, -1.69335345, -1.69400472, -1.69465254,\n",
       "        -1.69529693, -1.69593791, -1.69657551, -1.69720973, -1.69784062,\n",
       "        -1.69846818, -1.69909244, -1.69971342, -1.70033115, -1.70094564,\n",
       "        -1.70155692, -1.70216501, -1.70276992, -1.70337169, -1.70397034,\n",
       "        -1.70456588, -1.70515834, -1.70574773, -1.70633409, -1.70691743,\n",
       "        -1.70749777, -1.70807514, -1.70867848, -1.70928966, -1.70989772,\n",
       "        -1.71050267, -1.71110454, -1.71170334, -1.7122991 , -1.71289185]),\n",
       " 'mean_test_score': array([-1.62067487, -1.61957893, -1.6186011 , -1.61777448, -1.61704055,\n",
       "        -1.61636292, -1.61574178, -1.6152519 , -1.61479721, -1.614389  ,\n",
       "        -1.61402333, -1.61369839, -1.61340343, -1.61313685, -1.6128913 ,\n",
       "        -1.61265953, -1.61244061, -1.61224673, -1.6120676 , -1.61190771,\n",
       "        -1.61176031, -1.61162691, -1.61151222, -1.61141439, -1.61132413,\n",
       "        -1.61124827, -1.6111784 , -1.61111435, -1.61106224, -1.61101808,\n",
       "        -1.61097864, -1.61094468, -1.6109255 , -1.61091964, -1.6109235 ,\n",
       "        -1.610932  , -1.61094606, -1.61096778, -1.6109936 , -1.61102886,\n",
       "        -1.61107987, -1.61114439, -1.61122273, -1.61130387, -1.6113954 ,\n",
       "        -1.61150483, -1.6116258 , -1.61175165, -1.61188046, -1.61201162,\n",
       "        -1.61214576, -1.61228634, -1.61243325, -1.61259093, -1.61275239,\n",
       "        -1.61291618, -1.61308741, -1.61326552, -1.61344545, -1.61362792,\n",
       "        -1.61381246, -1.61399956, -1.61419178, -1.61439581, -1.61461269,\n",
       "        -1.61483636, -1.6150622 , -1.61528884, -1.61551754, -1.61575104,\n",
       "        -1.6159903 , -1.6162325 , -1.61647924, -1.61672957, -1.61698401,\n",
       "        -1.61723746, -1.61749196, -1.61774828, -1.61800648, -1.61826752,\n",
       "        -1.6185302 , -1.61879492, -1.61906193, -1.61933196, -1.61960095,\n",
       "        -1.61987834, -1.62016309, -1.62044729, -1.62073115, -1.62102164,\n",
       "        -1.62131279, -1.62160301, -1.62189468, -1.62218668, -1.62248106,\n",
       "        -1.62277564, -1.62306907, -1.62336212, -1.62365712, -1.62395194]),\n",
       " 'std_test_score': array([0.11551888, 0.1151656 , 0.11491623, 0.11476512, 0.11465383,\n",
       "        0.11458133, 0.11453764, 0.11459643, 0.11466585, 0.11474826,\n",
       "        0.11483196, 0.11491052, 0.11498364, 0.11505454, 0.1151221 ,\n",
       "        0.11519357, 0.11526844, 0.11535812, 0.11544543, 0.11554107,\n",
       "        0.11563687, 0.11572718, 0.11581377, 0.11590753, 0.116001  ,\n",
       "        0.1160829 , 0.11616548, 0.11624836, 0.11632395, 0.11639921,\n",
       "        0.11647491, 0.11655023, 0.11662041, 0.11669827, 0.11678169,\n",
       "        0.11686651, 0.11695374, 0.11703461, 0.11711413, 0.11719799,\n",
       "        0.11729357, 0.11739862, 0.11750916, 0.11761783, 0.11771805,\n",
       "        0.11781793, 0.11792186, 0.11802673, 0.11813286, 0.11824062,\n",
       "        0.11834879, 0.11845802, 0.11856812, 0.11866902, 0.11876895,\n",
       "        0.11886868, 0.11896462, 0.11905553, 0.11914547, 0.11923469,\n",
       "        0.11932664, 0.11942158, 0.11951705, 0.11960743, 0.11969627,\n",
       "        0.11979245, 0.1198876 , 0.11998001, 0.12007218, 0.12016406,\n",
       "        0.1202528 , 0.120339  , 0.12042293, 0.12050458, 0.12058192,\n",
       "        0.12065883, 0.1207383 , 0.12081577, 0.12089189, 0.12096913,\n",
       "        0.12104851, 0.12112835, 0.12120798, 0.12128364, 0.12135865,\n",
       "        0.12142888, 0.12149893, 0.12156945, 0.12163995, 0.12170279,\n",
       "        0.12176433, 0.12182566, 0.12188885, 0.12195261, 0.12201466,\n",
       "        0.12207389, 0.12213283, 0.12219122, 0.12225206, 0.1223137 ]),\n",
       " 'rank_test_score': array([ 88,  83,  79,  75,  71,  67,  63,  60,  57,  54,  52,  49,  46,\n",
       "         44,  41,  39,  37,  34,  32,  30,  28,  26,  24,  22,  20,  18,\n",
       "         16,  14,  12,  10,   8,   5,   3,   1,   2,   4,   6,   7,   9,\n",
       "         11,  13,  15,  17,  19,  21,  23,  25,  27,  29,  31,  33,  35,\n",
       "         36,  38,  40,  42,  43,  45,  47,  48,  50,  51,  53,  55,  56,\n",
       "         58,  59,  61,  62,  64,  65,  66,  68,  69,  70,  72,  73,  74,\n",
       "         76,  77,  78,  80,  81,  82,  84,  85,  86,  87,  89,  90,  91,\n",
       "         92,  93,  94,  95,  96,  97,  98,  99, 100]),\n",
       " 'split0_train_score': array([-1.56425624, -1.56417258, -1.56411532, -1.56405789, -1.56405573,\n",
       "        -1.56409364, -1.56412588, -1.56417045, -1.56421923, -1.56427557,\n",
       "        -1.56434229, -1.56441337, -1.56450245, -1.56459977, -1.56470117,\n",
       "        -1.56482654, -1.56495745, -1.56509579, -1.5652391 , -1.565387  ,\n",
       "        -1.5655387 , -1.56569642, -1.56585213, -1.56601538, -1.56618554,\n",
       "        -1.56635745, -1.56653162, -1.56670751, -1.56689569, -1.56708296,\n",
       "        -1.56726946, -1.56746515, -1.56766666, -1.56786931, -1.56807006,\n",
       "        -1.56828122, -1.56850231, -1.56872616, -1.5689569 , -1.56918663,\n",
       "        -1.56941422, -1.56963973, -1.56986702, -1.57009384, -1.57032185,\n",
       "        -1.57055016, -1.57077757, -1.5710097 , -1.57125159, -1.57149848,\n",
       "        -1.57175382, -1.57201149, -1.5722726 , -1.57253254, -1.57279809,\n",
       "        -1.57306645, -1.57333519, -1.57360177, -1.57386684, -1.57413889,\n",
       "        -1.57441631, -1.57469422, -1.57497812, -1.57527165, -1.57556881,\n",
       "        -1.57586966, -1.57617977, -1.57649947, -1.57682142, -1.57714354,\n",
       "        -1.57746331, -1.57778076, -1.5780968 , -1.5784177 , -1.57873798,\n",
       "        -1.57905599, -1.57937772, -1.57970364, -1.58003061, -1.58035958,\n",
       "        -1.58068732, -1.58101509, -1.58134923, -1.58168392, -1.58201667,\n",
       "        -1.5823497 , -1.58268053, -1.58300937, -1.58333698, -1.58366247,\n",
       "        -1.58398586, -1.58430718, -1.58462644, -1.58494404, -1.58526621,\n",
       "        -1.58558698, -1.58590632, -1.58622716, -1.58655886, -1.58689332]),\n",
       " 'split1_train_score': array([-1.55899148, -1.5590226 , -1.5590735 , -1.55910683, -1.55917827,\n",
       "        -1.55928668, -1.55941355, -1.55953118, -1.55967416, -1.55983543,\n",
       "        -1.56004997, -1.56027019, -1.56048911, -1.5607116 , -1.5609401 ,\n",
       "        -1.56117039, -1.56139776, -1.5616271 , -1.56187155, -1.56211511,\n",
       "        -1.5623651 , -1.56262165, -1.56288525, -1.5631526 , -1.56341742,\n",
       "        -1.56367837, -1.5639378 , -1.56420139, -1.56446661, -1.56473627,\n",
       "        -1.56500449, -1.56527661, -1.56554873, -1.56582398, -1.56611746,\n",
       "        -1.56641343, -1.5667076 , -1.56699859, -1.56729506, -1.56759173,\n",
       "        -1.56789439, -1.56820263, -1.5685107 , -1.56882133, -1.56913202,\n",
       "        -1.56943972, -1.5697499 , -1.57006185, -1.57037081, -1.57067683,\n",
       "        -1.57098589, -1.5713006 , -1.5716303 , -1.57196328, -1.57229612,\n",
       "        -1.5726281 , -1.57295981, -1.57328996, -1.57362138, -1.57395709,\n",
       "        -1.57429936, -1.57464539, -1.57499767, -1.57534877, -1.57570266,\n",
       "        -1.57605576, -1.57640862, -1.57676889, -1.57712962, -1.57749252,\n",
       "        -1.57785692, -1.57821857, -1.5785849 , -1.57895404, -1.5793279 ,\n",
       "        -1.57970581, -1.58008432, -1.58046125, -1.58083541, -1.58120685,\n",
       "        -1.58158119, -1.58196036, -1.58233797, -1.58271896, -1.58310201,\n",
       "        -1.58348648, -1.58386832, -1.58424764, -1.5846268 , -1.58500341,\n",
       "        -1.5853793 , -1.58575614, -1.58613389, -1.58651037, -1.58688597,\n",
       "        -1.58725937, -1.58763568, -1.58801441, -1.58839462, -1.58877492]),\n",
       " 'split2_train_score': array([-1.55575945, -1.55608885, -1.55634309, -1.55658274, -1.55683078,\n",
       "        -1.55704722, -1.55723924, -1.55743221, -1.5576069 , -1.55776899,\n",
       "        -1.5579363 , -1.55809471, -1.55825761, -1.55842003, -1.55857526,\n",
       "        -1.55872422, -1.55886766, -1.5590084 , -1.55916375, -1.55933215,\n",
       "        -1.55949652, -1.5596575 , -1.55982004, -1.55998619, -1.5601506 ,\n",
       "        -1.56031741, -1.56049013, -1.56067104, -1.56085257, -1.56103663,\n",
       "        -1.56122492, -1.56142108, -1.56161638, -1.56181112, -1.56200896,\n",
       "        -1.562207  , -1.56240947, -1.56262573, -1.56285228, -1.56307915,\n",
       "        -1.56330854, -1.56353584, -1.56376877, -1.56400216, -1.56423887,\n",
       "        -1.56448766, -1.56474155, -1.56500772, -1.56527933, -1.56555521,\n",
       "        -1.56583373, -1.56611351, -1.5663946 , -1.56667736, -1.56695753,\n",
       "        -1.56723596, -1.56751438, -1.56779614, -1.56807715, -1.56836898,\n",
       "        -1.56867729, -1.5689893 , -1.56930528, -1.5696227 , -1.56994444,\n",
       "        -1.5702665 , -1.57058703, -1.57090731, -1.5712293 , -1.57155743,\n",
       "        -1.57188783, -1.57222818, -1.57256652, -1.57290726, -1.57324788,\n",
       "        -1.57358636, -1.57393067, -1.57428807, -1.57464369, -1.57499673,\n",
       "        -1.57534777, -1.57570003, -1.57605111, -1.57640382, -1.57675836,\n",
       "        -1.57711063, -1.5774636 , -1.5778155 , -1.57817265, -1.5785286 ,\n",
       "        -1.57888366, -1.57924242, -1.57960548, -1.57997253, -1.58033819,\n",
       "        -1.58070258, -1.58106646, -1.58142802, -1.58179133, -1.58215327]),\n",
       " 'split3_train_score': array([-1.5734232 , -1.57349141, -1.57358981, -1.57366561, -1.5737251 ,\n",
       "        -1.57380907, -1.57389813, -1.57398238, -1.57406483, -1.57414913,\n",
       "        -1.57425775, -1.57437296, -1.57449122, -1.57462832, -1.57477469,\n",
       "        -1.57493144, -1.57509286, -1.57527151, -1.57547128, -1.57568113,\n",
       "        -1.57589343, -1.57610765, -1.57632018, -1.57654376, -1.57676783,\n",
       "        -1.57700079, -1.57723942, -1.57749129, -1.57774903, -1.57800985,\n",
       "        -1.57827722, -1.57854286, -1.57880528, -1.57906469, -1.57932776,\n",
       "        -1.57959486, -1.57986307, -1.58013279, -1.58040158, -1.58067371,\n",
       "        -1.58094676, -1.58122056, -1.5814915 , -1.58177082, -1.58205239,\n",
       "        -1.5823319 , -1.58261344, -1.58289988, -1.58318818, -1.58347787,\n",
       "        -1.5837718 , -1.58406325, -1.58435515, -1.58464945, -1.58494676,\n",
       "        -1.5852509 , -1.58555937, -1.58587121, -1.58618527, -1.58649674,\n",
       "        -1.58680956, -1.58713079, -1.58745899, -1.58779523, -1.58813073,\n",
       "        -1.58846819, -1.58880655, -1.5891513 , -1.58950313, -1.58985376,\n",
       "        -1.59020466, -1.59055633, -1.59091282, -1.59127459, -1.59163987,\n",
       "        -1.59200255, -1.59236682, -1.59273172, -1.59309809, -1.59346363,\n",
       "        -1.59382864, -1.59419804, -1.59456705, -1.5949342 , -1.5953013 ,\n",
       "        -1.59566595, -1.59602863, -1.59639555, -1.59676746, -1.59714233,\n",
       "        -1.59751733, -1.59788992, -1.59826012, -1.59862841, -1.5989991 ,\n",
       "        -1.59936891, -1.59973901, -1.60010917, -1.60047858, -1.60084744]),\n",
       " 'split4_train_score': array([-1.59465507, -1.59461609, -1.594618  , -1.59466896, -1.59478828,\n",
       "        -1.59490638, -1.59503983, -1.59517864, -1.59532233, -1.5955119 ,\n",
       "        -1.59571672, -1.59591605, -1.59610794, -1.59630522, -1.59651045,\n",
       "        -1.59671044, -1.59690496, -1.59709732, -1.59729142, -1.59749392,\n",
       "        -1.59770176, -1.5979126 , -1.59812515, -1.59833817, -1.59854897,\n",
       "        -1.59875992, -1.59896848, -1.59918614, -1.59940979, -1.59963231,\n",
       "        -1.5998645 , -1.60010129, -1.60033864, -1.60057759, -1.60082097,\n",
       "        -1.6010706 , -1.601333  , -1.60159861, -1.60187076, -1.60214531,\n",
       "        -1.60242006, -1.60270176, -1.60298413, -1.60327596, -1.60357484,\n",
       "        -1.60387893, -1.60418854, -1.60449933, -1.60480914, -1.60511965,\n",
       "        -1.60542872, -1.60574129, -1.60605097, -1.60636185, -1.60667873,\n",
       "        -1.60699755, -1.60731514, -1.60763109, -1.60794559, -1.60826225,\n",
       "        -1.60858663, -1.60891463, -1.60924305, -1.60957082, -1.60989641,\n",
       "        -1.61022324, -1.61055613, -1.61088711, -1.61121887, -1.61154813,\n",
       "        -1.61187491, -1.61219961, -1.61252703, -1.61286296, -1.61320184,\n",
       "        -1.61354786, -1.61389415, -1.61423895, -1.61458285, -1.61492878,\n",
       "        -1.61527839, -1.61562683, -1.61597331, -1.61632588, -1.61667765,\n",
       "        -1.61702702, -1.61737686, -1.61772579, -1.6180773 , -1.61843074,\n",
       "        -1.61878526, -1.61914586, -1.61950614, -1.61986578, -1.62022307,\n",
       "        -1.62057805, -1.62093074, -1.62128117, -1.62163307, -1.62198554]),\n",
       " 'split5_train_score': array([-1.57129513, -1.57131174, -1.57133424, -1.5713888 , -1.57146446,\n",
       "        -1.57156243, -1.57166684, -1.57177706, -1.57190813, -1.57203639,\n",
       "        -1.57216981, -1.5723168 , -1.57245991, -1.57260289, -1.57275959,\n",
       "        -1.57291734, -1.57307594, -1.57324216, -1.57343069, -1.57363409,\n",
       "        -1.57383454, -1.57403218, -1.57422926, -1.57442549, -1.57462413,\n",
       "        -1.57482921, -1.5750339 , -1.57523853, -1.57544704, -1.57565331,\n",
       "        -1.57586956, -1.57608798, -1.57631105, -1.57653239, -1.57675139,\n",
       "        -1.57697636, -1.57720593, -1.57744548, -1.57769111, -1.57794372,\n",
       "        -1.57820242, -1.57846896, -1.57873688, -1.5790051 , -1.57927937,\n",
       "        -1.57955344, -1.57982685, -1.58010154, -1.58038162, -1.58067196,\n",
       "        -1.58096203, -1.58126087, -1.58156113, -1.58185897, -1.58216378,\n",
       "        -1.58247578, -1.58279164, -1.58310705, -1.58342648, -1.58374538,\n",
       "        -1.58406658, -1.58438538, -1.58470488, -1.58503927, -1.58538136,\n",
       "        -1.58572737, -1.58607293, -1.58642458, -1.58678317, -1.58715062,\n",
       "        -1.58751874, -1.58788409, -1.58824722, -1.58861247, -1.58897877,\n",
       "        -1.58934583, -1.58971229, -1.59007841, -1.59044427, -1.59081072,\n",
       "        -1.59117454, -1.59153579, -1.59189745, -1.59225833, -1.59262161,\n",
       "        -1.59298745, -1.59335329, -1.59371883, -1.59408864, -1.59445779,\n",
       "        -1.59482851, -1.59519836, -1.59556576, -1.59593075, -1.59629336,\n",
       "        -1.59665577, -1.59701742, -1.59738323, -1.59774916, -1.59811344]),\n",
       " 'split6_train_score': array([-1.60159841, -1.60154104, -1.6015505 , -1.60155401, -1.60155748,\n",
       "        -1.60157434, -1.60162122, -1.60169995, -1.60182244, -1.60193799,\n",
       "        -1.60205816, -1.60218581, -1.60232054, -1.60245961, -1.60260407,\n",
       "        -1.60274696, -1.60288603, -1.60302088, -1.60315816, -1.60330357,\n",
       "        -1.60345265, -1.60360539, -1.60376374, -1.60392349, -1.60408058,\n",
       "        -1.60423515, -1.6043995 , -1.60457354, -1.60474878, -1.60492354,\n",
       "        -1.60509726, -1.60527465, -1.60545845, -1.6056448 , -1.60583389,\n",
       "        -1.60602774, -1.60622334, -1.60642092, -1.60661788, -1.60682652,\n",
       "        -1.60706894, -1.6073232 , -1.60757747, -1.60783109, -1.60808509,\n",
       "        -1.60834596, -1.60860809, -1.60888346, -1.60915821, -1.60943112,\n",
       "        -1.60970998, -1.60999263, -1.61027875, -1.61056655, -1.61085321,\n",
       "        -1.61114098, -1.61143066, -1.61172721, -1.61202117, -1.61231258,\n",
       "        -1.61260151, -1.61289166, -1.61318005, -1.61347215, -1.61376281,\n",
       "        -1.61405111, -1.61433733, -1.61462759, -1.61491666, -1.61520786,\n",
       "        -1.61550085, -1.61579637, -1.61610417, -1.61641307, -1.61672602,\n",
       "        -1.61703738, -1.61734647, -1.61765572, -1.61796285, -1.61827182,\n",
       "        -1.61858887, -1.61890479, -1.61922714, -1.61954931, -1.61987251,\n",
       "        -1.62019553, -1.62051636, -1.62083794, -1.62116177, -1.62148923,\n",
       "        -1.62181911, -1.62214678, -1.62247229, -1.62279566, -1.6231172 ,\n",
       "        -1.62343713, -1.62375566, -1.62408048, -1.62440544, -1.62473279]),\n",
       " 'split7_train_score': array([-1.58239775, -1.582441  , -1.58254025, -1.58266785, -1.58277836,\n",
       "        -1.58291728, -1.58305572, -1.58321912, -1.58338305, -1.58356347,\n",
       "        -1.58377133, -1.58397734, -1.58419567, -1.58441445, -1.58463172,\n",
       "        -1.5848469 , -1.58505767, -1.5852657 , -1.58547576, -1.5856915 ,\n",
       "        -1.58590984, -1.58612687, -1.5863407 , -1.58656372, -1.58679761,\n",
       "        -1.58702903, -1.58726949, -1.5875092 , -1.58774574, -1.58798338,\n",
       "        -1.5882326 , -1.58849633, -1.5887574 , -1.58901716, -1.58928044,\n",
       "        -1.58954611, -1.5898101 , -1.59007062, -1.59033311, -1.59060708,\n",
       "        -1.59088557, -1.59116623, -1.59144837, -1.59173326, -1.59202484,\n",
       "        -1.59231751, -1.59261169, -1.59291812, -1.59323106, -1.59354541,\n",
       "        -1.59385913, -1.59417145, -1.59448664, -1.5948033 , -1.59511694,\n",
       "        -1.59542762, -1.59574104, -1.59605588, -1.59637055, -1.59668843,\n",
       "        -1.59701347, -1.59733588, -1.59766496, -1.59799486, -1.59832274,\n",
       "        -1.59864787, -1.59897332, -1.59929976, -1.59962961, -1.59995919,\n",
       "        -1.60029648, -1.60063488, -1.6009768 , -1.60131914, -1.60166504,\n",
       "        -1.60201071, -1.60235378, -1.60269427, -1.60303523, -1.60337543,\n",
       "        -1.60371539, -1.60405484, -1.60439183, -1.60472639, -1.60506134,\n",
       "        -1.60539897, -1.60574317, -1.60608913, -1.6064327 , -1.60678019,\n",
       "        -1.60712603, -1.60746952, -1.60781069, -1.60815127, -1.60849604,\n",
       "        -1.60884191, -1.60919336, -1.60954517, -1.60989735, -1.61024724]),\n",
       " 'split8_train_score': array([-1.58922166, -1.58911065, -1.58903977, -1.58903809, -1.58906928,\n",
       "        -1.5891112 , -1.58917655, -1.58925949, -1.58934657, -1.58943507,\n",
       "        -1.5895433 , -1.58965429, -1.58976514, -1.5898812 , -1.59001066,\n",
       "        -1.59014803, -1.5902945 , -1.59044163, -1.59059488, -1.5907506 ,\n",
       "        -1.59091635, -1.59108083, -1.59124524, -1.59141852, -1.59160241,\n",
       "        -1.59179848, -1.59199792, -1.59219911, -1.5924019 , -1.59261725,\n",
       "        -1.59283949, -1.59306814, -1.59329997, -1.59353256, -1.59377367,\n",
       "        -1.59402275, -1.59427722, -1.59453438, -1.59479397, -1.59505253,\n",
       "        -1.59531277, -1.59557684, -1.59584115, -1.5961029 , -1.59636215,\n",
       "        -1.59662594, -1.5968885 , -1.59714951, -1.59741474, -1.59768226,\n",
       "        -1.59795539, -1.59823122, -1.5985117 , -1.59879177, -1.59906945,\n",
       "        -1.59934676, -1.59962402, -1.59989893, -1.60017451, -1.60045053,\n",
       "        -1.60073567, -1.60102204, -1.60131237, -1.60160524, -1.60190235,\n",
       "        -1.60219751, -1.60249625, -1.60280703, -1.60311683, -1.60342857,\n",
       "        -1.60374225, -1.60406586, -1.60438838, -1.60471188, -1.60503411,\n",
       "        -1.60535508, -1.60568322, -1.60602248, -1.60636957, -1.60671423,\n",
       "        -1.60705722, -1.60740349, -1.60774944, -1.60809532, -1.60844172,\n",
       "        -1.60878882, -1.60913354, -1.60947878, -1.60982192, -1.61016525,\n",
       "        -1.61051302, -1.61086065, -1.6112095 , -1.61155802, -1.61191132,\n",
       "        -1.61226509, -1.61262115, -1.61297743, -1.61333484, -1.61369113]),\n",
       " 'split9_train_score': array([-1.57343726, -1.57346032, -1.57347427, -1.57348418, -1.5735522 ,\n",
       "        -1.57364836, -1.57373213, -1.57380606, -1.57387425, -1.5739401 ,\n",
       "        -1.5740154 , -1.57410652, -1.5741962 , -1.57428319, -1.57438018,\n",
       "        -1.5744838 , -1.57460091, -1.57472657, -1.57485489, -1.57498239,\n",
       "        -1.57511167, -1.57524239, -1.57537318, -1.57551188, -1.57566629,\n",
       "        -1.57581916, -1.57597168, -1.57612562, -1.57628042, -1.57643705,\n",
       "        -1.57660189, -1.57677558, -1.57695658, -1.57715473, -1.57736215,\n",
       "        -1.5775684 , -1.57777429, -1.57797766, -1.57817861, -1.57839722,\n",
       "        -1.57862704, -1.57886151, -1.57909341, -1.57932615, -1.57956596,\n",
       "        -1.57980973, -1.58005613, -1.58030846, -1.58056322, -1.58082919,\n",
       "        -1.58110211, -1.58137355, -1.58164253, -1.58191245, -1.58218063,\n",
       "        -1.58245032, -1.58271958, -1.58299076, -1.5832683 , -1.58354696,\n",
       "        -1.58382391, -1.58410098, -1.5843806 , -1.58466198, -1.58494558,\n",
       "        -1.58522883, -1.58551296, -1.58579716, -1.58608615, -1.58637818,\n",
       "        -1.58667262, -1.5869722 , -1.58727834, -1.58759136, -1.58790532,\n",
       "        -1.58821786, -1.58853637, -1.58885491, -1.58917125, -1.58948937,\n",
       "        -1.5898142 , -1.59014123, -1.59046711, -1.59079133, -1.5911133 ,\n",
       "        -1.59143306, -1.59175063, -1.5920681 , -1.59238629, -1.5927072 ,\n",
       "        -1.59302595, -1.59334321, -1.59366044, -1.59397741, -1.59429778,\n",
       "        -1.59461664, -1.59493397, -1.5952523 , -1.5955728 , -1.59589429]),\n",
       " 'mean_train_score': array([-1.57650357, -1.57652563, -1.57656787, -1.5766215 , -1.57669999,\n",
       "        -1.57679566, -1.57689691, -1.57700565, -1.57712219, -1.57724541,\n",
       "        -1.5773861 , -1.5775308 , -1.57767858, -1.57783063, -1.57798879,\n",
       "        -1.57815061, -1.57831357, -1.57847971, -1.57865515, -1.57883714,\n",
       "        -1.57902206, -1.57920835, -1.57939549, -1.57958792, -1.57978414,\n",
       "        -1.5799825 , -1.58018399, -1.58039034, -1.58059976, -1.58081125,\n",
       "        -1.58102814, -1.58125097, -1.58147591, -1.58170283, -1.58193468,\n",
       "        -1.58217085, -1.58241063, -1.58265309, -1.58289913, -1.58315036,\n",
       "        -1.58340807, -1.58366973, -1.58393194, -1.58419626, -1.58446374,\n",
       "        -1.5847341 , -1.58500622, -1.58528396, -1.58556479, -1.5858488 ,\n",
       "        -1.58613626, -1.58642599, -1.58671844, -1.58701175, -1.58730613,\n",
       "        -1.58760204, -1.58789908, -1.588197  , -1.58849572, -1.58879678,\n",
       "        -1.58910303, -1.58941103, -1.5897226 , -1.59003827, -1.59035579,\n",
       "        -1.59067361, -1.59099309, -1.59131702, -1.59164348, -1.59197198,\n",
       "        -1.59230186, -1.59263369, -1.5929683 , -1.59330645, -1.59364647,\n",
       "        -1.59398654, -1.59432858, -1.59467294, -1.59501738, -1.59536171,\n",
       "        -1.59570735, -1.59605405, -1.59640116, -1.59674875, -1.59709665,\n",
       "        -1.59744436, -1.59779149, -1.59813866, -1.59848725, -1.59883672,\n",
       "        -1.5991864 , -1.599536  , -1.59988508, -1.60023342, -1.60058282,\n",
       "        -1.60093124, -1.60127998, -1.60162985, -1.60198161, -1.60233334]),\n",
       " 'std_train_score': array([0.01445243, 0.01438337, 0.01434276, 0.01431849, 0.0142929 ,\n",
       "        0.01426621, 0.01425037, 0.01424347, 0.0142437 , 0.01424849,\n",
       "        0.01425   , 0.01425154, 0.01425204, 0.01425313, 0.01425629,\n",
       "        0.01425716, 0.0142574 , 0.01425519, 0.0142487 , 0.01424241,\n",
       "        0.01423795, 0.01423358, 0.01422954, 0.01422501, 0.01422056,\n",
       "        0.01421624, 0.01421314, 0.01421098, 0.01420814, 0.01420545,\n",
       "        0.01420401, 0.01420241, 0.0142014 , 0.01420028, 0.0141986 ,\n",
       "        0.01419784, 0.01419795, 0.01419675, 0.01419382, 0.01419288,\n",
       "        0.0141966 , 0.01420314, 0.01420904, 0.0142156 , 0.01422226,\n",
       "        0.01422972, 0.01423714, 0.01424475, 0.01425111, 0.01425597,\n",
       "        0.01426023, 0.01426451, 0.01426745, 0.01427045, 0.01427332,\n",
       "        0.01427611, 0.01427901, 0.01428254, 0.01428524, 0.01428537,\n",
       "        0.01428368, 0.01428166, 0.01427807, 0.01427349, 0.01426702,\n",
       "        0.01425955, 0.01425217, 0.01424421, 0.01423525, 0.01422496,\n",
       "        0.01421489, 0.01420481, 0.01419694, 0.014189  , 0.01418173,\n",
       "        0.01417531, 0.01416749, 0.01415808, 0.01414939, 0.01414142,\n",
       "        0.01413508, 0.01412792, 0.01412107, 0.01411441, 0.01410764,\n",
       "        0.01410093, 0.01409466, 0.01408912, 0.01408319, 0.01407889,\n",
       "        0.01407589, 0.01407298, 0.0140693 , 0.01406499, 0.0140604 ,\n",
       "        0.01405598, 0.01405159, 0.01404771, 0.01404252, 0.01403749])}"
      ]
     },
     "execution_count": 50,
     "metadata": {},
     "output_type": "execute_result"
    }
   ],
   "source": [
    "grid_search.cv_results_"
   ]
  },
  {
   "cell_type": "markdown",
   "metadata": {},
   "source": [
    " if you want you can now fit a ridge regression model with obtained value of alpha , although there is no need, grid search automatically fits the best estimator on the entire data, you can directly use this to make predictions on test_data. But if you want to look at coefficients , its much more convenient to fit the model with direct function"
   ]
  },
  {
   "cell_type": "code",
   "execution_count": 51,
   "metadata": {},
   "outputs": [],
   "source": [
    "test_pred=grid_search.predict(ld_test)"
   ]
  },
  {
   "cell_type": "code",
   "execution_count": 52,
   "metadata": {},
   "outputs": [],
   "source": [
    "pd.DataFrame(test_pred).to_csv(\"mysubmission.csv\",index=False)"
   ]
  },
  {
   "cell_type": "markdown",
   "metadata": {
    "collapsed": true
   },
   "source": [
    "## For looking at coefficients"
   ]
  },
  {
   "cell_type": "code",
   "execution_count": 53,
   "metadata": {},
   "outputs": [],
   "source": [
    "ridge_model=grid_search.best_estimator_"
   ]
  },
  {
   "cell_type": "code",
   "execution_count": 54,
   "metadata": {},
   "outputs": [
    {
     "data": {
      "text/plain": [
       "Ridge(alpha=34.0, copy_X=True, fit_intercept=True, max_iter=None,\n",
       "   normalize=False, random_state=None, solver='auto', tol=0.001)"
      ]
     },
     "execution_count": 54,
     "metadata": {},
     "output_type": "execute_result"
    }
   ],
   "source": [
    "ridge_model.fit(x_train,y_train)"
   ]
  },
  {
   "cell_type": "code",
   "execution_count": 55,
   "metadata": {},
   "outputs": [
    {
     "data": {
      "text/plain": [
       "[('Amount.Requested', 0.00016714537449332437),\n",
       " ('Debt.To.Income.Ratio', -0.001260654425030649),\n",
       " ('Monthly.Income', -2.969851180581745e-05),\n",
       " ('Open.CREDIT.Lines', -0.03680978176797282),\n",
       " ('Revolving.CREDIT.Balance', -3.0023321502439184e-06),\n",
       " ('Inquiries.in.the.Last.6.Months', 0.34237751501355024),\n",
       " ('Employment.Length', 0.019418602187516776),\n",
       " ('fico', -0.08664485391886666),\n",
       " ('Loan.Length_36 months', -2.8299762705866205),\n",
       " ('Loan.Purpose_debt_consolidation', -0.3704218576828521),\n",
       " ('Loan.Purpose_credit_card', -0.46479454726336766),\n",
       " ('Loan.Purpose_other', 0.37785665163622867),\n",
       " ('Loan.Purpose_home_improvement', -0.22927008352909098),\n",
       " ('Loan.Purpose_major_purchase', -0.011304507141031317),\n",
       " ('Loan.Purpose_small_business', 0.08971483773413955),\n",
       " ('Loan.Purpose_car', -0.030458295781704864),\n",
       " ('Loan.Purpose_wedding', -0.32871620194253187),\n",
       " ('Loan.Purpose_medical', -0.09644409135075824),\n",
       " ('Loan.Purpose_moving', 0.4576238471903767),\n",
       " ('State_CA', -0.09391793411410596),\n",
       " ('State_NY', -0.043997671539286555),\n",
       " ('State_TX', 0.4272184777026187),\n",
       " ('State_FL', 0.02409902959694947),\n",
       " ('State_IL', -0.3475483678305887),\n",
       " ('State_GA', -0.08405365767738904),\n",
       " ('State_PA', -0.28116404371457493),\n",
       " ('State_NJ', -0.20973892538236363),\n",
       " ('State_VA', -0.002008987822923932),\n",
       " ('State_MA', -0.017505518805417595),\n",
       " ('State_OH', -0.13254554214913344),\n",
       " ('State_MD', 0.011827292660319552),\n",
       " ('State_NC', -0.24367324438879429),\n",
       " ('State_CO', 0.09233333151064647),\n",
       " ('State_WA', -0.08772672017548837),\n",
       " ('State_CT', 0.2486658062436641),\n",
       " ('State_AZ', 0.2753826811319546),\n",
       " ('State_MI', -0.003753451253503508),\n",
       " ('State_AL', 0.013304019104652731),\n",
       " ('State_MN', -0.04297138105698716),\n",
       " ('State_MO', -0.12088507532801802),\n",
       " ('State_NV', -0.01297022976866183),\n",
       " ('State_OR', 0.04475195215254478),\n",
       " ('State_SC', 0.008945589985711249),\n",
       " ('State_WI', 0.06539120347076842),\n",
       " ('State_KY', 0.06929959383324003),\n",
       " ('State_LA', 0.10860903512946181),\n",
       " ('State_KS', 0.12492599122671143),\n",
       " ('Home.Ownership_MORTGAGE', -0.3039747142080268),\n",
       " ('Home.Ownership_RENT', -0.09558753919624591)]"
      ]
     },
     "execution_count": 55,
     "metadata": {},
     "output_type": "execute_result"
    }
   ],
   "source": [
    "list(zip(x_train1.columns,ridge_model.coef_))"
   ]
  },
  {
   "cell_type": "markdown",
   "metadata": {},
   "source": [
    "## Lasso Regression"
   ]
  },
  {
   "cell_type": "code",
   "execution_count": 56,
   "metadata": {},
   "outputs": [],
   "source": [
    "lambdas=np.linspace(1,10,100)\n",
    "model=Lasso(fit_intercept=True)\n",
    "params={'alpha':lambdas}"
   ]
  },
  {
   "cell_type": "code",
   "execution_count": 57,
   "metadata": {},
   "outputs": [],
   "source": [
    "grid_search=GridSearchCV(model,param_grid=params,cv=10,scoring='neg_mean_absolute_error')"
   ]
  },
  {
   "cell_type": "code",
   "execution_count": 58,
   "metadata": {},
   "outputs": [
    {
     "data": {
      "text/plain": [
       "GridSearchCV(cv=10, error_score='raise-deprecating',\n",
       "       estimator=Lasso(alpha=1.0, copy_X=True, fit_intercept=True, max_iter=1000,\n",
       "   normalize=False, positive=False, precompute=False, random_state=None,\n",
       "   selection='cyclic', tol=0.0001, warm_start=False),\n",
       "       fit_params=None, iid='warn', n_jobs=None,\n",
       "       param_grid={'alpha': array([ 1.     ,  1.09091, ...,  9.90909, 10.     ])},\n",
       "       pre_dispatch='2*n_jobs', refit=True, return_train_score='warn',\n",
       "       scoring='neg_mean_absolute_error', verbose=0)"
      ]
     },
     "execution_count": 58,
     "metadata": {},
     "output_type": "execute_result"
    }
   ],
   "source": [
    "grid_search.fit(x_train,y_train)"
   ]
  },
  {
   "cell_type": "code",
   "execution_count": 59,
   "metadata": {},
   "outputs": [
    {
     "data": {
      "text/plain": [
       "Lasso(alpha=1.0, copy_X=True, fit_intercept=True, max_iter=1000,\n",
       "   normalize=False, positive=False, precompute=False, random_state=None,\n",
       "   selection='cyclic', tol=0.0001, warm_start=False)"
      ]
     },
     "execution_count": 59,
     "metadata": {},
     "output_type": "execute_result"
    }
   ],
   "source": [
    "grid_search.best_estimator_"
   ]
  },
  {
   "cell_type": "markdown",
   "metadata": {},
   "source": [
    "you can see that, the best value of alpha comes at the edge of the range that we tried , we should expand the trial range on that side and run this again"
   ]
  },
  {
   "cell_type": "code",
   "execution_count": 60,
   "metadata": {},
   "outputs": [],
   "source": [
    "lambdas=np.linspace(.001,2,100)\n",
    "params={'alpha':lambdas}"
   ]
  },
  {
   "cell_type": "code",
   "execution_count": 61,
   "metadata": {},
   "outputs": [
    {
     "data": {
      "text/plain": [
       "GridSearchCV(cv=10, error_score='raise-deprecating',\n",
       "       estimator=Lasso(alpha=1.0, copy_X=True, fit_intercept=True, max_iter=1000,\n",
       "   normalize=False, positive=False, precompute=False, random_state=None,\n",
       "   selection='cyclic', tol=0.0001, warm_start=False),\n",
       "       fit_params=None, iid='warn', n_jobs=None,\n",
       "       param_grid={'alpha': array([1.00000e-03, 2.11919e-02, ..., 1.97981e+00, 2.00000e+00])},\n",
       "       pre_dispatch='2*n_jobs', refit=True, return_train_score='warn',\n",
       "       scoring='neg_mean_absolute_error', verbose=0)"
      ]
     },
     "execution_count": 61,
     "metadata": {},
     "output_type": "execute_result"
    }
   ],
   "source": [
    "grid_search=GridSearchCV(model,param_grid=params,cv=10,scoring='neg_mean_absolute_error')\n",
    "grid_search.fit(x_train,y_train)"
   ]
  },
  {
   "cell_type": "code",
   "execution_count": 62,
   "metadata": {},
   "outputs": [
    {
     "data": {
      "text/plain": [
       "Lasso(alpha=0.021191919191919192, copy_X=True, fit_intercept=True,\n",
       "   max_iter=1000, normalize=False, positive=False, precompute=False,\n",
       "   random_state=None, selection='cyclic', tol=0.0001, warm_start=False)"
      ]
     },
     "execution_count": 62,
     "metadata": {},
     "output_type": "execute_result"
    }
   ],
   "source": [
    "grid_search.best_estimator_"
   ]
  },
  {
   "cell_type": "code",
   "execution_count": 64,
   "metadata": {},
   "outputs": [],
   "source": [
    "lasso_model=grid_search.best_estimator_"
   ]
  },
  {
   "cell_type": "code",
   "execution_count": 65,
   "metadata": {},
   "outputs": [
    {
     "data": {
      "text/plain": [
       "Lasso(alpha=0.021191919191919192, copy_X=True, fit_intercept=True,\n",
       "   max_iter=1000, normalize=False, positive=False, precompute=False,\n",
       "   random_state=None, selection='cyclic', tol=0.0001, warm_start=False)"
      ]
     },
     "execution_count": 65,
     "metadata": {},
     "output_type": "execute_result"
    }
   ],
   "source": [
    "lasso_model.fit(x_train,y_train)"
   ]
  },
  {
   "cell_type": "code",
   "execution_count": 66,
   "metadata": {},
   "outputs": [
    {
     "data": {
      "text/plain": [
       "[('Amount.Requested', 0.00016025576388069374),\n",
       " ('Debt.To.Income.Ratio', -0.0009940455335086431),\n",
       " ('Monthly.Income', -2.7161150694601474e-05),\n",
       " ('Open.CREDIT.Lines', -0.03776066942268258),\n",
       " ('Revolving.CREDIT.Balance', -3.2291582902347866e-06),\n",
       " ('Inquiries.in.the.Last.6.Months', 0.32734647665538585),\n",
       " ('Employment.Length', 0.011883001638602755),\n",
       " ('fico', -0.08647817945138424),\n",
       " ('Loan.Length_36 months', -3.0098932744846625),\n",
       " ('Loan.Purpose_debt_consolidation', -0.1780182230425123),\n",
       " ('Loan.Purpose_credit_card', -0.22053269213383622),\n",
       " ('Loan.Purpose_other', 0.3196217853383159),\n",
       " ('Loan.Purpose_home_improvement', -0.0),\n",
       " ('Loan.Purpose_major_purchase', 0.0),\n",
       " ('Loan.Purpose_small_business', 0.0),\n",
       " ('Loan.Purpose_car', 0.0),\n",
       " ('Loan.Purpose_wedding', -0.0),\n",
       " ('Loan.Purpose_medical', -0.0),\n",
       " ('Loan.Purpose_moving', 0.0),\n",
       " ('State_CA', -0.0),\n",
       " ('State_NY', 0.0),\n",
       " ('State_TX', 0.2592516325019152),\n",
       " ('State_FL', 0.0),\n",
       " ('State_IL', -0.0),\n",
       " ('State_GA', -0.0),\n",
       " ('State_PA', -0.0),\n",
       " ('State_NJ', -0.0),\n",
       " ('State_VA', 0.0),\n",
       " ('State_MA', 0.0),\n",
       " ('State_OH', -0.0),\n",
       " ('State_MD', 0.0),\n",
       " ('State_NC', -0.0),\n",
       " ('State_CO', 0.0),\n",
       " ('State_WA', -0.0),\n",
       " ('State_CT', 0.0),\n",
       " ('State_AZ', 0.0),\n",
       " ('State_MI', 0.0),\n",
       " ('State_AL', 0.0),\n",
       " ('State_MN', -0.0),\n",
       " ('State_MO', -0.0),\n",
       " ('State_NV', 0.0),\n",
       " ('State_OR', 0.0),\n",
       " ('State_SC', 0.0),\n",
       " ('State_WI', 0.0),\n",
       " ('State_KY', 0.0),\n",
       " ('State_LA', 0.0),\n",
       " ('State_KS', 0.0),\n",
       " ('Home.Ownership_MORTGAGE', -0.15598777750113385),\n",
       " ('Home.Ownership_RENT', 0.0)]"
      ]
     },
     "execution_count": 66,
     "metadata": {},
     "output_type": "execute_result"
    }
   ],
   "source": [
    "list(zip(x_train.columns,lasso_model.coef_))"
   ]
  }
 ],
 "metadata": {
  "kernelspec": {
   "display_name": "Python 3",
   "language": "python",
   "name": "python3"
  },
  "language_info": {
   "codemirror_mode": {
    "name": "ipython",
    "version": 3
   },
   "file_extension": ".py",
   "mimetype": "text/x-python",
   "name": "python",
   "nbconvert_exporter": "python",
   "pygments_lexer": "ipython3",
   "version": "3.7.6"
  }
 },
 "nbformat": 4,
 "nbformat_minor": 2
}
